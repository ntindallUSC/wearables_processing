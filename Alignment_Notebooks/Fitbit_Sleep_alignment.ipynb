{
 "cells": [
  {
   "cell_type": "markdown",
   "id": "497ba77b",
   "metadata": {},
   "source": [
    "# This notebook file is used aligning fitbit for the PA protocol"
   ]
  },
  {
   "cell_type": "code",
   "execution_count": 1,
   "id": "d93b3ec7",
   "metadata": {},
   "outputs": [],
   "source": [
    "import pandas as pd\n",
    "import numpy as np\n",
    "from datetime import datetime, time, timedelta\n",
    "from matplotlib import pyplot as plt"
   ]
  },
  {
   "cell_type": "markdown",
   "id": "866980ad",
   "metadata": {},
   "source": [
    "## The block of code below reads in the fitbit-hr and fitabase. Then it plots them\n",
    "<p>Please be sure to change the first line of code in the block below. You should change the participant number to the current participant that you are trying to process. For example the end of the line may read something like '\\\\2989\\\\'. If you wanted to process participant 3000 you would change the 2989 to 3000.</p>"
   ]
  },
  {
   "cell_type": "code",
   "execution_count": 2,
   "id": "23ebe32f",
   "metadata": {},
   "outputs": [
    {
     "name": "stdout",
     "output_type": "stream",
     "text": [
      "Protocol Start: 2023-03-22 22:40:00 \n",
      "Protocol End: 2023-03-23 05:17:00\n"
     ]
    }
   ],
   "source": [
    "path = \"V:\\\\ACOI\\\\R01 - W4K\\\\1_Sleep Study\\\\1_Participant Data\\\\7517032223\\\\\"\n",
    "part_id = path[-11:-1]\n",
    "# Read in tracking sheet to obtain protocol date\n",
    "tracking_sheet = pd.read_excel(\"V:\\\\ACOI\\\\R01 - W4K\\\\1_Sleep Study\\\\Sleep study tracking.xlsx\").dropna(how='all')\n",
    "times = tracking_sheet.loc[tracking_sheet['Child ID'] == int(part_id), ['Date of Visit', 'Devices time on', 'Devices time off']].iloc[0]\n",
    "start = datetime.combine(times.iloc[0], times.iloc[1])\n",
    "end = datetime.combine(times.iloc[0] + timedelta(days=1), times.iloc[2])\n",
    "print(f\"Protocol Start: {start} \\nProtocol End: {end}\")\n",
    "\n",
    "# Read in FITBIT data\n",
    "slog_hr = pd.read_csv(path + \"Fitbit\\\\\" + part_id + \"_heart.csv\", parse_dates=['Time'], infer_datetime_format=True)\n",
    "slog_hr\n",
    "\n",
    "# Read in FITABASE data\n",
    "fitabase = pd.read_csv(path + \"Fitbit\\\\Fitabase\\\\\" + part_id + \"_hr.csv\", parse_dates=['Time'])\n",
    "# Select data corresponding to protocol\n",
    "#fitabase = fitabase.loc[(fitabase['Time'] >= start) & (fitabase['Time'] <= end), :].reset_index(drop=True)\n",
    "fitabase = fitabase.loc[(fitabase['Time'] >= start - timedelta(minutes=40)) & (fitabase['Time'] <= end + timedelta(hours=3)), :].reset_index(drop=True)\n",
    "fitabase\n",
    "\n",
    "# Plot HR to check initial alignment\n",
    "fig, ax = plt.subplots(figsize=[25,15])\n",
    "ax.plot(slog_hr['Time'], slog_hr['Heart Rate'], label='Fitbit', color='red')\n",
    "ax.plot(fitabase['Time'], fitabase['Value'], label='Fitabase', color='orange')\n",
    "#ax.set(xlim=[start, end])\n",
    "#ax.set(xlim=[start, start + timedelta(hours=2)])\n",
    "fig.legend(fontsize='xx-large')\n",
    "plt.show()"
   ]
  },
  {
   "cell_type": "markdown",
   "id": "13ae5c65",
   "metadata": {},
   "source": [
    "## The code block below attempts to align the fitbit and fitabase using the hr peaks.\n",
    "<p>This doesn't always work. If it doesn't work you will then need to run the next code block. If it does work, skip to the very last code block</p>"
   ]
  },
  {
   "cell_type": "code",
   "execution_count": 6,
   "id": "f5e8dcb6",
   "metadata": {},
   "outputs": [
    {
     "name": "stdout",
     "output_type": "stream",
     "text": [
      "Fitbit Max Occured: 2023-04-04 01:48:03.183000\n",
      "Fitabase Max Occured: 2023-04-04 02:57:49\n"
     ]
    }
   ],
   "source": [
    "## The code block below attempts to align the fitbit and fitabase using the hr peaks.\n",
    "<p>This doesn't always work. If it doesn't work you will then need to run the next code block. If it does work, skip to the very last code block</p># OPTIONAL\n",
    "# Align FITBIT with FITABASE\n",
    "# First check when Max's occure\n",
    "slog_max = slog_hr.iloc[slog_hr['Heart Rate'].idxmax(), 0]\n",
    "fitabase_max = fitabase.iloc[fitabase['Value'].idxmax(), 0]\n",
    "print(f\"Fitbit Max Occured: {slog_max}\\nFitabase Max Occured: {fitabase_max}\")\n",
    "\n",
    "# Shift data\n",
    "if fitabase_max > slog_max :\n",
    "    shift = fitabase_max - slog_max\n",
    "    slog_hr['Time'] = slog_hr['Time'].apply(lambda x: x + shift)\n",
    "else :\n",
    "    shift = slog_max - fitabase_max\n",
    "    slog_hr['Time'] = slog_hr['Time'].apply(lambda x: x - shift)\n",
    "\n",
    "# Plot HR to check initial alignment\n",
    "fig, ax = plt.subplots(figsize=[25,15])\n",
    "ax.plot(slog_hr['Time'], slog_hr['Heart Rate'], label='Fitbit', color='red')\n",
    "ax.plot(fitabase['Time'], fitabase['Value'], label='Fitabase', color='orange')\n",
    "#ax.set(xlim=[start, end])\n",
    "#ax.set(xlim=[start, start + timedelta(hours=2)])\n",
    "fig.legend(fontsize='xx-large')\n",
    "plt.show()"
   ]
  },
  {
   "cell_type": "markdown",
   "id": "53b7781b",
   "metadata": {},
   "source": [
    "## IF the above block did not align the fitbit and the fitabase, try the block below.\n",
    "<p>You will once again need to change the first line of code. The first line of code is adding (or subtracting) some time to all the times in the fitbit time column. You can adjust whether your adding or subracting and how much time your adding/subtracting</p>"
   ]
  },
  {
   "cell_type": "code",
   "execution_count": 11,
   "id": "b268e7be",
   "metadata": {},
   "outputs": [],
   "source": [
    "slog_hr['Time'] = slog_hr['Time'].apply(lambda x: x - timedelta(seconds=30))\n",
    "\n",
    "# Plot to check alignment\n",
    "fig, ax = plt.subplots(figsize=[25,15])\n",
    "ax.plot(slog_hr['Time'], slog_hr['Heart Rate'], label='Fitbit', color='red')\n",
    "ax.plot(fitabase['Time'], fitabase['Value'], label='Fitabase', color='orange')\n",
    "ax.set(xlim=[start, end])\n",
    "#ax.set(xlim=[start + timedelta(hours=2), start + timedelta(hours=4)])\n",
    "fig.legend(fontsize='xx-large')\n",
    "plt.show()"
   ]
  },
  {
   "cell_type": "markdown",
   "id": "1147ae73",
   "metadata": {},
   "source": [
    "## Run the last line of code to save the changes you've made to the fitbit heartrate file"
   ]
  },
  {
   "cell_type": "code",
   "execution_count": 14,
   "id": "5e969c44",
   "metadata": {},
   "outputs": [],
   "source": [
    "# Write FITBIT data to CSV\n",
    "slog_hr.to_csv(path + \"Fitbit\\\\\" + part_id+ \"_heart.csv\", index=None)"
   ]
  }
 ],
 "metadata": {
  "kernelspec": {
   "display_name": "Python 3 (ipykernel)",
   "language": "python",
   "name": "python3"
  },
  "language_info": {
   "codemirror_mode": {
    "name": "ipython",
    "version": 3
   },
   "file_extension": ".py",
   "mimetype": "text/x-python",
   "name": "python",
   "nbconvert_exporter": "python",
   "pygments_lexer": "ipython3",
   "version": "3.9.7"
  }
 },
 "nbformat": 4,
 "nbformat_minor": 5
}
