{
 "cells": [
  {
   "cell_type": "code",
   "execution_count": 1,
   "id": "3dd59041",
   "metadata": {},
   "outputs": [],
   "source": [
    "from glob import glob\n",
    "import pandas as pd"
   ]
  },
  {
   "cell_type": "code",
   "execution_count": 2,
   "id": "e8950f9f",
   "metadata": {},
   "outputs": [],
   "source": [
    "metrics_dir = \"C:/Users/ntindall/Wearables/Physical Activity/Rahul_Accelerometer_Metrics/Fitbit_Metrics/Combined_Metrics/\"\n",
    "pa_dir = \"V:/ACOI/R01 - W4K/3_PA protocol/1_Participants/\"\n",
    "out_dir = \"C:/Users/ntindall/Wearables/Physical Activity/Rahul_Accelerometer_Metrics/Fitbit_Metrics/Labeled_Metrics/\"\n",
    "\n",
    "metric_paths = glob(metrics_dir + \"[0-9][0-9][0-9][0-9]*\")\n",
    "pa_cols = ['Activity', 'Flags', 'Time', 'Fitbit RMS X', 'Fitbit Mean X', 'Fitbit RMS Y', 'Fitbit Mean Y', 'Fitbit RMS Z', \n",
    "           'Fitbit Mean Z', 'Fitbit Max Magnitude', 'Fitbit Mean Magnitude', 'Fitbit RMS Magnitude', 'Fitbit Max ENMO', \n",
    "           'Fitbit Mean ENMO', 'Fitbit RMS ENMO', 'Fitbit MAD', 'Fitbit Heart Rate', 'K5 Rf','K5 VE',  \n",
    "           'K5 VO2', 'K5 VCO2', 'K5 O2exp', 'K5 CO2exp','K5 VO2/Kg',]"
   ]
  },
  {
   "cell_type": "code",
   "execution_count": 3,
   "id": "b7864208",
   "metadata": {
    "scrolled": true
   },
   "outputs": [
    {
     "name": "stdout",
     "output_type": "stream",
     "text": [
      "Processing 0231 Number 1/66\n",
      "Processing 0632 Number 2/66\n",
      "Processing 0695 Number 3/66\n",
      "Processing 1772 Number 4/66\n",
      "Processing 1799 Number 5/66\n",
      "Processing 2031 Number 6/66\n",
      "Processing 2321 Number 7/66\n",
      "Processing 2433 Number 8/66\n",
      "Processing 2596 Number 9/66\n",
      "Processing 2635 Number 10/66\n",
      "Processing 2637 Number 11/66\n",
      "Processing 2653 Number 12/66\n",
      "Processing 2657 Number 13/66\n",
      "Processing 2661 Number 14/66\n",
      "Processing 2662 Number 15/66\n",
      "Processing 2663 Number 16/66\n",
      "Processing 2664 Number 17/66\n",
      "Processing 2665 Number 18/66\n",
      "Processing 2666 Number 19/66\n",
      "Processing 2667 Number 20/66\n",
      "Processing 2668 Number 21/66\n",
      "Processing 2669 Number 22/66\n",
      "Processing 2670 Number 23/66\n",
      "Processing 2671 Number 24/66\n",
      "Processing 2672 Number 25/66\n",
      "Processing 2673 Number 26/66\n",
      "Processing 2674 Number 27/66\n",
      "Processing 2676 Number 28/66\n",
      "Processing 2680 Number 29/66\n",
      "Processing 2681 Number 30/66\n",
      "Processing 2683 Number 31/66\n",
      "Processing 2685 Number 32/66\n",
      "Processing 2686 Number 33/66\n",
      "Processing 2687 Number 34/66\n",
      "Processing 2688 Number 35/66\n",
      "Processing 2689 Number 36/66\n",
      "Processing 2690 Number 37/66\n",
      "Processing 2691 Number 38/66\n",
      "Processing 2706 Number 39/66\n",
      "Processing 2709 Number 40/66\n",
      "Processing 2711 Number 41/66\n",
      "Processing 2712 Number 42/66\n",
      "Processing 2753 Number 43/66\n",
      "Processing 2775 Number 44/66\n",
      "Processing 2778 Number 45/66\n",
      "Processing 2781 Number 46/66\n",
      "Processing 2782 Number 47/66\n",
      "Processing 2788 Number 48/66\n",
      "Processing 2790 Number 49/66\n",
      "Processing 2792 Number 50/66\n",
      "Processing 2793 Number 51/66\n",
      "Processing 2795 Number 52/66\n",
      "Processing 2797 Number 53/66\n",
      "Processing 2798 Number 54/66\n",
      "Processing 2812 Number 55/66\n",
      "Processing 2813 Number 56/66\n",
      "Processing 2814 Number 57/66\n",
      "Processing 2815 Number 58/66\n",
      "Processing 2816 Number 59/66\n",
      "Processing 2817 Number 60/66\n",
      "Processing 2818 Number 61/66\n",
      "Processing 2820 Number 62/66\n",
      "Processing 2821 Number 63/66\n",
      "Processing 2822 Number 64/66\n",
      "Processing 2823 Number 65/66\n",
      "Processing 2824 Number 66/66\n"
     ]
    }
   ],
   "source": [
    "curr_par = 1\n",
    "total_par = len(metric_paths)\n",
    "for path in metric_paths:\n",
    "    participant_id = path[len(metrics_dir):len(metrics_dir)+4]\n",
    "    print(f\"Processing {participant_id} Number {curr_par}/{total_par}\")\n",
    "    # Read in metrics file\n",
    "    metrics_df = pd.read_csv(path, parse_dates=['Time'], infer_datetime_format=True)\n",
    "    # Read in corresponding PA File\n",
    "    pa_path = pa_dir + participant_id + \"/\" + participant_id + \"_agg.csv\"\n",
    "    pa_df = pd.read_csv(pa_path, parse_dates =['Time'], infer_datetime_format=True, usecols=pa_cols)\n",
    "    # Combine newly calculated metrics with existing data set\n",
    "    final_df = pa_df.merge(metrics_df, on='Time', how='left')\n",
    "    # Write data to file\n",
    "    out_path = out_dir + participant_id + \".csv\"\n",
    "    final_df.to_csv(out_path, index=False)\n",
    "    curr_par += 1"
   ]
  }
 ],
 "metadata": {
  "kernelspec": {
   "display_name": "Python 3 (ipykernel)",
   "language": "python",
   "name": "python3"
  },
  "language_info": {
   "codemirror_mode": {
    "name": "ipython",
    "version": 3
   },
   "file_extension": ".py",
   "mimetype": "text/x-python",
   "name": "python",
   "nbconvert_exporter": "python",
   "pygments_lexer": "ipython3",
   "version": "3.9.7"
  }
 },
 "nbformat": 4,
 "nbformat_minor": 5
}
