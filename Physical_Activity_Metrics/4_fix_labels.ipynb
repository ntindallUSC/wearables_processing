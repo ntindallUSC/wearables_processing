{
 "cells": [
  {
   "cell_type": "code",
   "execution_count": 1,
   "id": "a021bf57",
   "metadata": {},
   "outputs": [],
   "source": [
    "import glob\n",
    "import pandas as pd\n",
    "from datetime import datetime"
   ]
  },
  {
   "cell_type": "code",
   "execution_count": 41,
   "id": "c9126806",
   "metadata": {},
   "outputs": [],
   "source": [
    "dir_path = \"C:/Users/ntindall/Wearables/Physical Activity/Rahul_Accelerometer_Metrics/Final_Metrics/Final_Metrics/\"\n",
    "file_paths = glob.glob(dir_path + \"*.csv\")"
   ]
  },
  {
   "cell_type": "code",
   "execution_count": 6,
   "id": "b6a244ee",
   "metadata": {},
   "outputs": [],
   "source": [
    "dir_path = \"C:/Users/ntindall/Wearables/Physical Activity/Rahul_Accelerometer_Metrics/Garmin_Metrics/Labeled_Metrics/\"\n",
    "out_path = \"C:/Users/ntindall/Wearables/Physical Activity/Rahul_Accelerometer_Metrics/Garmin_Metrics/Corrected_Labels_Metrics/\"\n",
    "file_paths = glob.glob(dir_path + \"*.csv\")"
   ]
  },
  {
   "cell_type": "code",
   "execution_count": 2,
   "id": "29115a28",
   "metadata": {},
   "outputs": [],
   "source": [
    "dir_path = \"C:/Users/ntindall/Wearables/Physical Activity/Rahul_Accelerometer_Metrics/Fitbit_Metrics/Labeled_Metrics/\"\n",
    "out_path = \"C:/Users/ntindall/Wearables/Physical Activity/Rahul_Accelerometer_Metrics/Fitbit_Metrics/Corrected_Labels_Metrics/\"\n",
    "file_paths = glob.glob(dir_path + \"*.csv\")"
   ]
  },
  {
   "cell_type": "code",
   "execution_count": 3,
   "id": "412eccc4",
   "metadata": {},
   "outputs": [],
   "source": [
    "for file in file_paths:\n",
    "    file_name = file.split(\"\\\\\")[-1]\n",
    "    data = pd.read_csv(file)\n",
    "    data['Activity'] = data['Activity'].apply(lambda x: x.lower())\n",
    "    data.loc[data['Activity'] == 'do not drop the egg', 'Activity'] = \"don’t drop the egg\"\n",
    "    data.to_csv(out_path + file_name, index=False)"
   ]
  },
  {
   "cell_type": "code",
   "execution_count": 22,
   "id": "6f7120fe",
   "metadata": {},
   "outputs": [],
   "source": [
    "bad_boi1 = \"C:/Users/ntindall/Wearables/Physical Activity/Rahul_Accelerometer_Metrics/Garmin_Metrics/Corrected_Labels_Metrics/0444.csv\"\n",
    "df = pd.read_csv(bad_boi1)\n",
    "df.loc[df['Activity'] == 'obstacle course', 'Activity'] = \"intense obstacle course\"\n",
    "df.to_csv(bad_boi1, index=False)"
   ]
  },
  {
   "cell_type": "code",
   "execution_count": 23,
   "id": "3a56f1f1",
   "metadata": {},
   "outputs": [],
   "source": [
    "bad_boi2 = \"C:/Users/ntindall/Wearables/Physical Activity/Rahul_Accelerometer_Metrics/Garmin_Metrics/Corrected_Labels_Metrics//0967.csv\"\n",
    "df2 = pd.read_csv(bad_boi2, parse_dates=['Time'], infer_datetime_format=True)\n",
    "int_start = datetime(year=2022, month=7, day=8, hour=10, minute=32, second=25)\n",
    "int_end = datetime(year=2022, month=7, day=8, hour=10, minute=37, second=25)\n",
    "df2.loc[(df2['Time'] >= int_start) & (df2['Time'] <= int_end), 'Activity'] = 'intense obstacle course'\n",
    "light_start = datetime(year=2022, month=7, day=8, hour=10, minute=46, second=44)\n",
    "light_end = datetime(year=2022, month=7, day=8, hour=10, minute=51, second=44)\n",
    "df2.loc[(df2['Time'] >= light_start) & (df2['Time'] <= light_end)] = 'light obstacle course'\n",
    "df2.to_csv(bad_boi2)"
   ]
  },
  {
   "cell_type": "code",
   "execution_count": 4,
   "id": "e31340a1",
   "metadata": {},
   "outputs": [],
   "source": [
    "corrected_paths = glob.glob(out_path + \"*.csv\")\n",
    "df_list = []\n",
    "for file in corrected_paths:\n",
    "    df_list.append(pd.read_csv(file, usecols=['Activity']))\n",
    "    if df_list[-1].loc[df_list[-1]['Activity'] == 'obstacle course', 'Activity'].shape[0] > 0:\n",
    "        print(file)"
   ]
  },
  {
   "cell_type": "code",
   "execution_count": 5,
   "id": "af5ae19d",
   "metadata": {},
   "outputs": [
    {
     "data": {
      "text/html": [
       "<div>\n",
       "<style scoped>\n",
       "    .dataframe tbody tr th:only-of-type {\n",
       "        vertical-align: middle;\n",
       "    }\n",
       "\n",
       "    .dataframe tbody tr th {\n",
       "        vertical-align: top;\n",
       "    }\n",
       "\n",
       "    .dataframe thead th {\n",
       "        text-align: right;\n",
       "    }\n",
       "</style>\n",
       "<table border=\"1\" class=\"dataframe\">\n",
       "  <thead>\n",
       "    <tr style=\"text-align: right;\">\n",
       "      <th></th>\n",
       "      <th>Activity</th>\n",
       "    </tr>\n",
       "  </thead>\n",
       "  <tbody>\n",
       "    <tr>\n",
       "      <th>0</th>\n",
       "      <td>before protocol</td>\n",
       "    </tr>\n",
       "    <tr>\n",
       "      <th>1</th>\n",
       "      <td>before protocol</td>\n",
       "    </tr>\n",
       "    <tr>\n",
       "      <th>2</th>\n",
       "      <td>before protocol</td>\n",
       "    </tr>\n",
       "    <tr>\n",
       "      <th>3</th>\n",
       "      <td>before protocol</td>\n",
       "    </tr>\n",
       "    <tr>\n",
       "      <th>4</th>\n",
       "      <td>before protocol</td>\n",
       "    </tr>\n",
       "    <tr>\n",
       "      <th>...</th>\n",
       "      <td>...</td>\n",
       "    </tr>\n",
       "    <tr>\n",
       "      <th>4685</th>\n",
       "      <td>don’t drop the egg</td>\n",
       "    </tr>\n",
       "    <tr>\n",
       "      <th>4686</th>\n",
       "      <td>don’t drop the egg</td>\n",
       "    </tr>\n",
       "    <tr>\n",
       "      <th>4687</th>\n",
       "      <td>don’t drop the egg</td>\n",
       "    </tr>\n",
       "    <tr>\n",
       "      <th>4688</th>\n",
       "      <td>don’t drop the egg</td>\n",
       "    </tr>\n",
       "    <tr>\n",
       "      <th>4689</th>\n",
       "      <td>don’t drop the egg</td>\n",
       "    </tr>\n",
       "  </tbody>\n",
       "</table>\n",
       "<p>271662 rows × 1 columns</p>\n",
       "</div>"
      ],
      "text/plain": [
       "                Activity\n",
       "0        before protocol\n",
       "1        before protocol\n",
       "2        before protocol\n",
       "3        before protocol\n",
       "4        before protocol\n",
       "...                  ...\n",
       "4685  don’t drop the egg\n",
       "4686  don’t drop the egg\n",
       "4687  don’t drop the egg\n",
       "4688  don’t drop the egg\n",
       "4689  don’t drop the egg\n",
       "\n",
       "[271662 rows x 1 columns]"
      ]
     },
     "execution_count": 5,
     "metadata": {},
     "output_type": "execute_result"
    }
   ],
   "source": [
    "data = pd.concat(df_list)\n",
    "data"
   ]
  },
  {
   "cell_type": "code",
   "execution_count": 6,
   "id": "c0f36f3a",
   "metadata": {
    "scrolled": false
   },
   "outputs": [
    {
     "data": {
      "text/plain": [
       "Activity               \n",
       "transition                 41754\n",
       "resting, lying down        39957\n",
       "break                      21620\n",
       "intense obstacle course    20486\n",
       "walking casual             20155\n",
       "video viewing              20047\n",
       "walking brisk              19749\n",
       "gather the flags            8399\n",
       "card game                   7692\n",
       "coloring                    7594\n",
       "trampoline jumping          7565\n",
       "light obstacle course       7290\n",
       "cross the pond              7264\n",
       "don’t drop the egg          7234\n",
       "cleaning up                 6862\n",
       "soccer                      5470\n",
       "class activity              5460\n",
       "building blocks             5450\n",
       "trash collector             5191\n",
       "before protocol             3981\n",
       "after protocol              2442\n",
       "dtype: int64"
      ]
     },
     "execution_count": 6,
     "metadata": {},
     "output_type": "execute_result"
    }
   ],
   "source": [
    "data.value_counts()"
   ]
  },
  {
   "cell_type": "code",
   "execution_count": 7,
   "id": "63c88aa3",
   "metadata": {},
   "outputs": [
    {
     "data": {
      "text/plain": [
       "Activity    21\n",
       "dtype: int64"
      ]
     },
     "execution_count": 7,
     "metadata": {},
     "output_type": "execute_result"
    }
   ],
   "source": [
    "data.nunique()"
   ]
  }
 ],
 "metadata": {
  "kernelspec": {
   "display_name": "Python 3 (ipykernel)",
   "language": "python",
   "name": "python3"
  },
  "language_info": {
   "codemirror_mode": {
    "name": "ipython",
    "version": 3
   },
   "file_extension": ".py",
   "mimetype": "text/x-python",
   "name": "python",
   "nbconvert_exporter": "python",
   "pygments_lexer": "ipython3",
   "version": "3.9.7"
  }
 },
 "nbformat": 4,
 "nbformat_minor": 5
}
