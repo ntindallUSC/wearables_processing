{
 "cells": [
  {
   "cell_type": "code",
   "execution_count": 1,
   "id": "290a2fe9",
   "metadata": {},
   "outputs": [],
   "source": [
    "from glob import glob\n",
    "from datetime import datetime, timedelta\n",
    "import pandas as pd\n",
    "import numpy as np\n",
    "from scipy.fft import fft, fftfreq, fftshift\n",
    "from scipy.signal import periodogram\n",
    "from scipy.stats import skew, moment, kurtosis\n",
    "from matplotlib import pyplot as plt\n",
    "import math\n",
    "from statsmodels.tsa.stattools import acf "
   ]
  },
  {
   "cell_type": "code",
   "execution_count": 8,
   "id": "3605773b",
   "metadata": {},
   "outputs": [],
   "source": [
    "def parser_apple(aDate, aMicro):\n",
    "    if not pd.isna(aDate):\n",
    "        full_date = datetime.fromisoformat(aDate)\n",
    "        full_date = full_date.replace(microsecond=int(aMicro))\n",
    "    else :\n",
    "        full_date = np.NaN\n",
    "    return full_date"
   ]
  },
  {
   "cell_type": "code",
   "execution_count": 36,
   "id": "924dfb06",
   "metadata": {},
   "outputs": [],
   "source": [
    "def read_apple(data_path):\n",
    "    # First check if Apple Data exists in the file\n",
    "    file = open(data_path, 'r')\n",
    "    apple_exist = False\n",
    "    if \"Apple\" in file.readline():\n",
    "        #print(\"Apple Data Found\")\n",
    "        apple_data = pd.read_csv(data_path, usecols=['Apple Time', 'Apple Second Fraction', 'Apple X', 'Apple Y', 'Apple Z', 'Apple Magnitude'], parse_dates=[[0,1]], date_parser=parser_apple).dropna()\n",
    "        apple_data = apple_data.rename(columns={apple_data.columns[0]: 'Apple Time'})\n",
    "        apple_data = apple_data.sort_values(by='Apple Time')\n",
    "        apple_data['Apple Time'] = apple_data['Apple Time'].apply(lambda x : int(x.timestamp()*1000))\n",
    "        start = apple_data.iloc[0,0]\n",
    "        apple_data[\"Apple Time\"] = apple_data['Apple Time'].apply(lambda x: x - start)\n",
    "        apple_data = apple_data.values\n",
    "    else:\n",
    "        #print(\"No Apple Data\")\n",
    "        apple_data = None\n",
    "        start = None\n",
    "    file.close()\n",
    "    return apple_data, start"
   ]
  },
  {
   "cell_type": "code",
   "execution_count": 18,
   "id": "a6975a53",
   "metadata": {},
   "outputs": [],
   "source": [
    "def read_garmin(data_path):\n",
    "    # First check if Garmin Data exists in the file\n",
    "    file = open(data_path, 'r')\n",
    "    Garmin_exist = False\n",
    "    if \"Garmin\" in file.readline():\n",
    "        #print(\"Garmin Data Found\")\n",
    "        garmin_data = pd.read_csv(data_path, usecols=['Garmin Time', 'Garmin X', 'Garmin Y', 'Garmin Z', 'Garmin Magnitude'], parse_dates=[0], infer_datetime_format=True).dropna()\n",
    "        garmin_data['Garmin Time'] = garmin_data['Garmin Time'].apply(lambda x : int(x.timestamp()*1000))\n",
    "        start = garmin_data.iloc[0,0]\n",
    "        garmin_data[\"Garmin Time\"] = garmin_data['Garmin Time'].apply(lambda x: x - start)\n",
    "        garmin_data = garmin_data.values\n",
    "    else:\n",
    "        #print(\"No Garmin Data\")\n",
    "        garmin_data = None\n",
    "        start = None\n",
    "    file.close()\n",
    "    return garmin_data, start"
   ]
  },
  {
   "cell_type": "code",
   "execution_count": 10,
   "id": "f330a0ae",
   "metadata": {},
   "outputs": [],
   "source": [
    "def read_fitbit(data_path):\n",
    "    # First check if Fitbit Data exists in the file\n",
    "    file = open(data_path, 'r')\n",
    "    fitbit_exist = False\n",
    "    if \"Fitbit\" in file.readline():\n",
    "        #print(\"Fitbit Data Found\")\n",
    "        fitbit_data = pd.read_csv(data_path, usecols=['Fitbit Time', 'Fitbit Second Fraction', 'Fitbit X', 'Fitbit Y', 'Fitbit Z', 'Fitbit Magnitude'], parse_dates=[[0,1]], date_parser=parser_apple).dropna()\n",
    "        if fitbit_data.shape[0] > 0:\n",
    "            fitbit_data = fitbit_data.rename(columns={fitbit_data.columns[0]: 'Fitbit Time'})\n",
    "            fitbit_data = fitbit_data.sort_values(by='Fitbit Time')\n",
    "            fitbit_data['Fitbit Time'] = fitbit_data['Fitbit Time'].apply(lambda x : int(x.timestamp()*1000))\n",
    "            start = fitbit_data.iloc[0,0]\n",
    "            fitbit_data[\"Fitbit Time\"] = fitbit_data['Fitbit Time'].apply(lambda x: x - start)\n",
    "            fitbit_data = fitbit_data.values\n",
    "        else:\n",
    "            fitbit_data = None\n",
    "            start = None\n",
    "    else:\n",
    "        #print(\"No Fitbit Data\")\n",
    "        fitbit_data = None\n",
    "        start = None\n",
    "    file.close()\n",
    "    return fitbit_data, start"
   ]
  },
  {
   "cell_type": "code",
   "execution_count": 3,
   "id": "25917bc1",
   "metadata": {},
   "outputs": [],
   "source": [
    "# This function calculates the dominant acceleration frequency and returns that frequency and it's power\n",
    "def dom_freq(aWindow):\n",
    "    # Subtract the mean from signal to get rid of DC offset\n",
    "    no_dc = aWindow - np.mean(aWindow)\n",
    "    # Use periodogram to calculate the power of each frequency\n",
    "    freq, power = periodogram(no_dc, 50) # 50 is the sampling rate of the Apple Watches Accelerometer\n",
    "    # Select the dominant frequency and power\n",
    "    max_index = np.argmax(power)\n",
    "    dom = freq[max_index]\n",
    "    max_pow = power[max_index]\n",
    "    return dom, max_pow"
   ]
  },
  {
   "cell_type": "code",
   "execution_count": 4,
   "id": "7ff3226c",
   "metadata": {
    "scrolled": true
   },
   "outputs": [],
   "source": [
    "def accel_metrics(some_data, start_time, out_path):\n",
    "    # Start and stop of daylight savings for 2022\n",
    "    ds_begin = datetime(year=2022, month=3, day=13)\n",
    "    ds_end = datetime(year=2022, month=11, day=6)\n",
    "    \n",
    "    win_size = 31 * 1000 # Window should be 31 seconds long. Apple Time is in millisecond\n",
    "    # Initialize beginning of first window as 0\n",
    "    win_start = 0\n",
    "    win_end = 31000\n",
    "\n",
    "    # Initialize hash table to store indicies of each second since the sample rate\n",
    "    # Isn't perfect\n",
    "    win_start_table = {0: 0}\n",
    "    cur_sec = 1000\n",
    "    # Initialize array for output\n",
    "    output = np.zeros([int(some_data[-1,0]//1000)-30, 21])\n",
    "    output_iter = 0\n",
    "    for i in range(some_data.shape[0] - 1):\n",
    "        # CHeck if a second has passed. If so, update win_start_table\n",
    "        if some_data[i, 0] >= cur_sec:\n",
    "            # Add the index that the current second begins. Set it's key value\n",
    "            # To be the corresponding second number.\n",
    "            win_start_table[cur_sec//1000] = i\n",
    "            cur_sec += 1000\n",
    "\n",
    "\n",
    "        if some_data[i+1,0] > win_end :\n",
    "            # Get 31 second window of data\n",
    "            rows = win_start_table[win_start]\n",
    "            x_win= some_data[rows:i+1, 1]\n",
    "            y_win= some_data[rows:i+1, 2]\n",
    "            z_win= some_data[rows:i+1, 3]\n",
    "            mag_win= some_data[rows:i+1, 4]\n",
    "            # Timestamp output\n",
    "            output[output_iter, 0] = some_data[win_start_table[int(win_end//1000 - 15)],0]\n",
    "            # Caclulate dominant frequency and power\n",
    "            freq, power = dom_freq(mag_win)\n",
    "            # Add calc to output\n",
    "            output[output_iter, 1] = freq\n",
    "            output[output_iter, 2] = power\n",
    "            # Calculate MEAN\n",
    "            output[output_iter, 3] = np.mean(mag_win)\n",
    "            # Calculate STD\n",
    "            output[output_iter, 4] = np.std(mag_win)\n",
    "            # Coefficeint of Variation\n",
    "            output[output_iter, 5] = output[output_iter, 4] / output[output_iter, 3]\n",
    "            # Calculate Min\n",
    "            output[output_iter, 6] = np.min(mag_win)\n",
    "            # Calculate Max\n",
    "            output[output_iter, 7] = np.max(mag_win)\n",
    "            # Calculate 10th Percentile\n",
    "            output[output_iter, 8] = np.percentile(mag_win, 10)\n",
    "            # Calculate the 25th Percentile\n",
    "            output[output_iter, 9] = np.percentile(mag_win, 25)\n",
    "            # Calculate the 50th Percentile\n",
    "            output[output_iter, 10] = np.percentile(mag_win, 50)\n",
    "            # Calculate the 75th Percentile\n",
    "            output[output_iter, 11] = np.percentile(mag_win, 75)\n",
    "            # Calculate the 90th Percentile \n",
    "            output[output_iter, 12] = np.percentile(mag_win, 90)\n",
    "            # Calculate the 3rd Moment\n",
    "            output[output_iter, 13] = moment(mag_win, 3)\n",
    "            # Calculate the 4th Moment\n",
    "            output[output_iter, 14] = moment(mag_win, 4)\n",
    "            # Calculate Skewness\n",
    "            output[output_iter, 15] = skew(mag_win)\n",
    "            # Calculate Kurtosis\n",
    "            output[output_iter, 16] = kurtosis(mag_win)\n",
    "            # Calculate the autocorrelation with second lag\n",
    "            output[output_iter, 17] = acf(mag_win, nlags=50)[-1]\n",
    "            # Correlate X with Y\n",
    "            output[output_iter, 18] = np.correlate(x_win, y_win)\n",
    "            # Correlate X with Z\n",
    "            output[output_iter, 19] = np.correlate(x_win, z_win)\n",
    "            # Correlate Y with Z\n",
    "            output[output_iter, 20] = np.correlate(y_win, z_win)\n",
    "            # Advance window by a second\n",
    "            win_start += 1\n",
    "            win_end += 1000\n",
    "            output_iter += 1\n",
    "\n",
    "    names = ['Time', 'Dominant Frequency', 'Power', 'Mag Mean', 'Mag STD', 'Mag CoV', 'Mag Min', 'Mag Max', 'Mag 10th Percentile',\n",
    "               'Mag 25th Percentile', 'Mag 50th Percentile', 'Mag 75th Percentile', 'Mag 90th Percentile', 'Mag 3rd Moment',\n",
    "               'Mag 4th Moment', 'Mag Skewness', 'Mag Kurtosis', 'Mag 1sec Autocorrelation', 'XY Correlation', 'XZ Correlation', \n",
    "               'YZ Correlation']\n",
    "    out_df = pd.DataFrame(output, columns=names)\n",
    "    out_df['Time'] = out_df['Time'].apply(lambda x: datetime.fromtimestamp((x+ start_time)//1000))\n",
    "    if ds_begin <= out_df.iloc[0,0] <= ds_end:\n",
    "        out_df['Time'] = out_df['Time'].apply(lambda x: x + timedelta(hours=4))\n",
    "    else:\n",
    "        out_df['Time'] = out_df['Time'].apply(lambda x: x + timedelta(hours=5))\n",
    "    out_df.to_csv(out_path, index=False)"
   ]
  },
  {
   "cell_type": "markdown",
   "id": "54328fb7",
   "metadata": {},
   "source": [
    "## RUN BELOW TO CALCULATE APPLE METRICS"
   ]
  },
  {
   "cell_type": "code",
   "execution_count": 37,
   "id": "c7c33f52",
   "metadata": {
    "collapsed": true
   },
   "outputs": [
    {
     "name": "stdout",
     "output_type": "stream",
     "text": [
      "Processing Participant 0118 1/162\n"
     ]
    },
    {
     "name": "stderr",
     "output_type": "stream",
     "text": [
      "C:\\Users\\ntindall\\AppData\\Local\\Temp\\ipykernel_520\\3695143538.py:7: FutureWarning: \n",
      "        Use pd.to_datetime instead.\n",
      "\n",
      "  apple_data = pd.read_csv(data_path, usecols=['Apple Time', 'Apple Second Fraction', 'Apple X', 'Apple Y', 'Apple Z', 'Apple Magnitude'], parse_dates=[[0,1]], date_parser=parser_apple).dropna()\n"
     ]
    },
    {
     "name": "stdout",
     "output_type": "stream",
     "text": [
      "Processing Participant 0231 2/162\n"
     ]
    },
    {
     "name": "stderr",
     "output_type": "stream",
     "text": [
      "C:\\Users\\ntindall\\AppData\\Local\\Temp\\ipykernel_520\\3695143538.py:7: FutureWarning: \n",
      "        Use pd.to_datetime instead.\n",
      "\n",
      "  apple_data = pd.read_csv(data_path, usecols=['Apple Time', 'Apple Second Fraction', 'Apple X', 'Apple Y', 'Apple Z', 'Apple Magnitude'], parse_dates=[[0,1]], date_parser=parser_apple).dropna()\n"
     ]
    },
    {
     "name": "stdout",
     "output_type": "stream",
     "text": [
      "Processing Participant 0444 3/162\n"
     ]
    },
    {
     "name": "stderr",
     "output_type": "stream",
     "text": [
      "C:\\Users\\ntindall\\AppData\\Local\\Temp\\ipykernel_520\\3695143538.py:7: FutureWarning: \n",
      "        Use pd.to_datetime instead.\n",
      "\n",
      "  apple_data = pd.read_csv(data_path, usecols=['Apple Time', 'Apple Second Fraction', 'Apple X', 'Apple Y', 'Apple Z', 'Apple Magnitude'], parse_dates=[[0,1]], date_parser=parser_apple).dropna()\n"
     ]
    },
    {
     "name": "stdout",
     "output_type": "stream",
     "text": [
      "Processing Participant 0601 4/162\n"
     ]
    },
    {
     "name": "stderr",
     "output_type": "stream",
     "text": [
      "C:\\Users\\ntindall\\AppData\\Local\\Temp\\ipykernel_520\\3695143538.py:7: FutureWarning: \n",
      "        Use pd.to_datetime instead.\n",
      "\n",
      "  apple_data = pd.read_csv(data_path, usecols=['Apple Time', 'Apple Second Fraction', 'Apple X', 'Apple Y', 'Apple Z', 'Apple Magnitude'], parse_dates=[[0,1]], date_parser=parser_apple).dropna()\n"
     ]
    },
    {
     "name": "stdout",
     "output_type": "stream",
     "text": [
      "Processing Participant 0632 5/162\n"
     ]
    },
    {
     "name": "stderr",
     "output_type": "stream",
     "text": [
      "C:\\Users\\ntindall\\AppData\\Local\\Temp\\ipykernel_520\\3695143538.py:7: FutureWarning: \n",
      "        Use pd.to_datetime instead.\n",
      "\n",
      "  apple_data = pd.read_csv(data_path, usecols=['Apple Time', 'Apple Second Fraction', 'Apple X', 'Apple Y', 'Apple Z', 'Apple Magnitude'], parse_dates=[[0,1]], date_parser=parser_apple).dropna()\n"
     ]
    },
    {
     "name": "stdout",
     "output_type": "stream",
     "text": [
      "Processing Participant 0695 6/162\n"
     ]
    },
    {
     "name": "stderr",
     "output_type": "stream",
     "text": [
      "C:\\Users\\ntindall\\AppData\\Local\\Temp\\ipykernel_520\\3695143538.py:7: FutureWarning: \n",
      "        Use pd.to_datetime instead.\n",
      "\n",
      "  apple_data = pd.read_csv(data_path, usecols=['Apple Time', 'Apple Second Fraction', 'Apple X', 'Apple Y', 'Apple Z', 'Apple Magnitude'], parse_dates=[[0,1]], date_parser=parser_apple).dropna()\n"
     ]
    },
    {
     "name": "stdout",
     "output_type": "stream",
     "text": [
      "Processing Participant 0819 7/162\n",
      "No Apple Data for 0819\n",
      "Processing Participant 0967 8/162\n"
     ]
    },
    {
     "name": "stderr",
     "output_type": "stream",
     "text": [
      "C:\\Users\\ntindall\\AppData\\Local\\Temp\\ipykernel_520\\3695143538.py:7: FutureWarning: \n",
      "        Use pd.to_datetime instead.\n",
      "\n",
      "  apple_data = pd.read_csv(data_path, usecols=['Apple Time', 'Apple Second Fraction', 'Apple X', 'Apple Y', 'Apple Z', 'Apple Magnitude'], parse_dates=[[0,1]], date_parser=parser_apple).dropna()\n"
     ]
    },
    {
     "name": "stdout",
     "output_type": "stream",
     "text": [
      "Processing Participant 1760 9/162\n",
      "No Apple Data for 1760\n",
      "Processing Participant 1772 10/162\n",
      "No Apple Data for 1772\n",
      "Processing Participant 1779 11/162\n"
     ]
    },
    {
     "name": "stderr",
     "output_type": "stream",
     "text": [
      "C:\\Users\\ntindall\\AppData\\Local\\Temp\\ipykernel_520\\3695143538.py:7: FutureWarning: \n",
      "        Use pd.to_datetime instead.\n",
      "\n",
      "  apple_data = pd.read_csv(data_path, usecols=['Apple Time', 'Apple Second Fraction', 'Apple X', 'Apple Y', 'Apple Z', 'Apple Magnitude'], parse_dates=[[0,1]], date_parser=parser_apple).dropna()\n"
     ]
    },
    {
     "name": "stdout",
     "output_type": "stream",
     "text": [
      "Processing Participant 1799 12/162\n",
      "No Apple Data for 1799\n",
      "Processing Participant 1854 13/162\n"
     ]
    },
    {
     "name": "stderr",
     "output_type": "stream",
     "text": [
      "C:\\Users\\ntindall\\AppData\\Local\\Temp\\ipykernel_520\\3695143538.py:7: FutureWarning: \n",
      "        Use pd.to_datetime instead.\n",
      "\n",
      "  apple_data = pd.read_csv(data_path, usecols=['Apple Time', 'Apple Second Fraction', 'Apple X', 'Apple Y', 'Apple Z', 'Apple Magnitude'], parse_dates=[[0,1]], date_parser=parser_apple).dropna()\n"
     ]
    },
    {
     "name": "stdout",
     "output_type": "stream",
     "text": [
      "Processing Participant 1974 14/162\n"
     ]
    },
    {
     "name": "stderr",
     "output_type": "stream",
     "text": [
      "C:\\Users\\ntindall\\AppData\\Local\\Temp\\ipykernel_520\\3695143538.py:7: FutureWarning: \n",
      "        Use pd.to_datetime instead.\n",
      "\n",
      "  apple_data = pd.read_csv(data_path, usecols=['Apple Time', 'Apple Second Fraction', 'Apple X', 'Apple Y', 'Apple Z', 'Apple Magnitude'], parse_dates=[[0,1]], date_parser=parser_apple).dropna()\n"
     ]
    },
    {
     "name": "stdout",
     "output_type": "stream",
     "text": [
      "Processing Participant 1991 15/162\n"
     ]
    },
    {
     "name": "stderr",
     "output_type": "stream",
     "text": [
      "C:\\Users\\ntindall\\AppData\\Local\\Temp\\ipykernel_520\\3695143538.py:7: FutureWarning: \n",
      "        Use pd.to_datetime instead.\n",
      "\n",
      "  apple_data = pd.read_csv(data_path, usecols=['Apple Time', 'Apple Second Fraction', 'Apple X', 'Apple Y', 'Apple Z', 'Apple Magnitude'], parse_dates=[[0,1]], date_parser=parser_apple).dropna()\n"
     ]
    },
    {
     "name": "stdout",
     "output_type": "stream",
     "text": [
      "Processing Participant 2007 16/162\n"
     ]
    },
    {
     "name": "stderr",
     "output_type": "stream",
     "text": [
      "C:\\Users\\ntindall\\AppData\\Local\\Temp\\ipykernel_520\\3695143538.py:7: FutureWarning: \n",
      "        Use pd.to_datetime instead.\n",
      "\n",
      "  apple_data = pd.read_csv(data_path, usecols=['Apple Time', 'Apple Second Fraction', 'Apple X', 'Apple Y', 'Apple Z', 'Apple Magnitude'], parse_dates=[[0,1]], date_parser=parser_apple).dropna()\n"
     ]
    },
    {
     "name": "stdout",
     "output_type": "stream",
     "text": [
      "Processing Participant 2031 17/162\n",
      "No Apple Data for 2031\n",
      "Processing Participant 2069 18/162\n"
     ]
    },
    {
     "name": "stderr",
     "output_type": "stream",
     "text": [
      "C:\\Users\\ntindall\\AppData\\Local\\Temp\\ipykernel_520\\3695143538.py:7: FutureWarning: \n",
      "        Use pd.to_datetime instead.\n",
      "\n",
      "  apple_data = pd.read_csv(data_path, usecols=['Apple Time', 'Apple Second Fraction', 'Apple X', 'Apple Y', 'Apple Z', 'Apple Magnitude'], parse_dates=[[0,1]], date_parser=parser_apple).dropna()\n"
     ]
    },
    {
     "name": "stdout",
     "output_type": "stream",
     "text": [
      "Processing Participant 2113 19/162\n"
     ]
    },
    {
     "name": "stderr",
     "output_type": "stream",
     "text": [
      "C:\\Users\\ntindall\\AppData\\Local\\Temp\\ipykernel_520\\3695143538.py:7: FutureWarning: \n",
      "        Use pd.to_datetime instead.\n",
      "\n",
      "  apple_data = pd.read_csv(data_path, usecols=['Apple Time', 'Apple Second Fraction', 'Apple X', 'Apple Y', 'Apple Z', 'Apple Magnitude'], parse_dates=[[0,1]], date_parser=parser_apple).dropna()\n"
     ]
    },
    {
     "name": "stdout",
     "output_type": "stream",
     "text": [
      "Processing Participant 2186 20/162\n"
     ]
    },
    {
     "name": "stderr",
     "output_type": "stream",
     "text": [
      "C:\\Users\\ntindall\\AppData\\Local\\Temp\\ipykernel_520\\3695143538.py:7: FutureWarning: \n",
      "        Use pd.to_datetime instead.\n",
      "\n",
      "  apple_data = pd.read_csv(data_path, usecols=['Apple Time', 'Apple Second Fraction', 'Apple X', 'Apple Y', 'Apple Z', 'Apple Magnitude'], parse_dates=[[0,1]], date_parser=parser_apple).dropna()\n"
     ]
    },
    {
     "name": "stdout",
     "output_type": "stream",
     "text": [
      "Processing Participant 2187 21/162\n"
     ]
    },
    {
     "name": "stderr",
     "output_type": "stream",
     "text": [
      "C:\\Users\\ntindall\\AppData\\Local\\Temp\\ipykernel_520\\3695143538.py:7: FutureWarning: \n",
      "        Use pd.to_datetime instead.\n",
      "\n",
      "  apple_data = pd.read_csv(data_path, usecols=['Apple Time', 'Apple Second Fraction', 'Apple X', 'Apple Y', 'Apple Z', 'Apple Magnitude'], parse_dates=[[0,1]], date_parser=parser_apple).dropna()\n"
     ]
    },
    {
     "name": "stdout",
     "output_type": "stream",
     "text": [
      "Processing Participant 2271 22/162\n"
     ]
    },
    {
     "name": "stderr",
     "output_type": "stream",
     "text": [
      "C:\\Users\\ntindall\\AppData\\Local\\Temp\\ipykernel_520\\3695143538.py:7: FutureWarning: \n",
      "        Use pd.to_datetime instead.\n",
      "\n",
      "  apple_data = pd.read_csv(data_path, usecols=['Apple Time', 'Apple Second Fraction', 'Apple X', 'Apple Y', 'Apple Z', 'Apple Magnitude'], parse_dates=[[0,1]], date_parser=parser_apple).dropna()\n"
     ]
    },
    {
     "name": "stdout",
     "output_type": "stream",
     "text": [
      "Processing Participant 2272 23/162\n"
     ]
    },
    {
     "name": "stderr",
     "output_type": "stream",
     "text": [
      "C:\\Users\\ntindall\\AppData\\Local\\Temp\\ipykernel_520\\3695143538.py:7: FutureWarning: \n",
      "        Use pd.to_datetime instead.\n",
      "\n",
      "  apple_data = pd.read_csv(data_path, usecols=['Apple Time', 'Apple Second Fraction', 'Apple X', 'Apple Y', 'Apple Z', 'Apple Magnitude'], parse_dates=[[0,1]], date_parser=parser_apple).dropna()\n"
     ]
    },
    {
     "name": "stdout",
     "output_type": "stream",
     "text": [
      "Processing Participant 2321 24/162\n"
     ]
    },
    {
     "name": "stderr",
     "output_type": "stream",
     "text": [
      "C:\\Users\\ntindall\\AppData\\Local\\Temp\\ipykernel_520\\3695143538.py:7: FutureWarning: \n",
      "        Use pd.to_datetime instead.\n",
      "\n",
      "  apple_data = pd.read_csv(data_path, usecols=['Apple Time', 'Apple Second Fraction', 'Apple X', 'Apple Y', 'Apple Z', 'Apple Magnitude'], parse_dates=[[0,1]], date_parser=parser_apple).dropna()\n"
     ]
    },
    {
     "name": "stdout",
     "output_type": "stream",
     "text": [
      "Processing Participant 2355 25/162\n"
     ]
    },
    {
     "name": "stderr",
     "output_type": "stream",
     "text": [
      "C:\\Users\\ntindall\\AppData\\Local\\Temp\\ipykernel_520\\3695143538.py:7: FutureWarning: \n",
      "        Use pd.to_datetime instead.\n",
      "\n",
      "  apple_data = pd.read_csv(data_path, usecols=['Apple Time', 'Apple Second Fraction', 'Apple X', 'Apple Y', 'Apple Z', 'Apple Magnitude'], parse_dates=[[0,1]], date_parser=parser_apple).dropna()\n"
     ]
    },
    {
     "name": "stdout",
     "output_type": "stream",
     "text": [
      "Processing Participant 2433 26/162\n"
     ]
    },
    {
     "name": "stderr",
     "output_type": "stream",
     "text": [
      "C:\\Users\\ntindall\\AppData\\Local\\Temp\\ipykernel_520\\3695143538.py:7: FutureWarning: \n",
      "        Use pd.to_datetime instead.\n",
      "\n",
      "  apple_data = pd.read_csv(data_path, usecols=['Apple Time', 'Apple Second Fraction', 'Apple X', 'Apple Y', 'Apple Z', 'Apple Magnitude'], parse_dates=[[0,1]], date_parser=parser_apple).dropna()\n"
     ]
    },
    {
     "name": "stdout",
     "output_type": "stream",
     "text": [
      "Processing Participant 2453 27/162\n"
     ]
    },
    {
     "name": "stderr",
     "output_type": "stream",
     "text": [
      "C:\\Users\\ntindall\\AppData\\Local\\Temp\\ipykernel_520\\3695143538.py:7: FutureWarning: \n",
      "        Use pd.to_datetime instead.\n",
      "\n",
      "  apple_data = pd.read_csv(data_path, usecols=['Apple Time', 'Apple Second Fraction', 'Apple X', 'Apple Y', 'Apple Z', 'Apple Magnitude'], parse_dates=[[0,1]], date_parser=parser_apple).dropna()\n"
     ]
    },
    {
     "name": "stdout",
     "output_type": "stream",
     "text": [
      "Processing Participant 2454 28/162\n"
     ]
    },
    {
     "name": "stderr",
     "output_type": "stream",
     "text": [
      "C:\\Users\\ntindall\\AppData\\Local\\Temp\\ipykernel_520\\3695143538.py:7: FutureWarning: \n",
      "        Use pd.to_datetime instead.\n",
      "\n",
      "  apple_data = pd.read_csv(data_path, usecols=['Apple Time', 'Apple Second Fraction', 'Apple X', 'Apple Y', 'Apple Z', 'Apple Magnitude'], parse_dates=[[0,1]], date_parser=parser_apple).dropna()\n"
     ]
    },
    {
     "name": "stdout",
     "output_type": "stream",
     "text": [
      "Processing Participant 2455 29/162\n"
     ]
    },
    {
     "name": "stderr",
     "output_type": "stream",
     "text": [
      "C:\\Users\\ntindall\\AppData\\Local\\Temp\\ipykernel_520\\3695143538.py:7: FutureWarning: \n",
      "        Use pd.to_datetime instead.\n",
      "\n",
      "  apple_data = pd.read_csv(data_path, usecols=['Apple Time', 'Apple Second Fraction', 'Apple X', 'Apple Y', 'Apple Z', 'Apple Magnitude'], parse_dates=[[0,1]], date_parser=parser_apple).dropna()\n"
     ]
    },
    {
     "name": "stdout",
     "output_type": "stream",
     "text": [
      "Processing Participant 2456 30/162\n"
     ]
    },
    {
     "name": "stderr",
     "output_type": "stream",
     "text": [
      "C:\\Users\\ntindall\\AppData\\Local\\Temp\\ipykernel_520\\3695143538.py:7: FutureWarning: \n",
      "        Use pd.to_datetime instead.\n",
      "\n",
      "  apple_data = pd.read_csv(data_path, usecols=['Apple Time', 'Apple Second Fraction', 'Apple X', 'Apple Y', 'Apple Z', 'Apple Magnitude'], parse_dates=[[0,1]], date_parser=parser_apple).dropna()\n"
     ]
    },
    {
     "name": "stdout",
     "output_type": "stream",
     "text": [
      "Processing Participant 2457 31/162\n"
     ]
    },
    {
     "name": "stderr",
     "output_type": "stream",
     "text": [
      "C:\\Users\\ntindall\\AppData\\Local\\Temp\\ipykernel_520\\3695143538.py:7: FutureWarning: \n",
      "        Use pd.to_datetime instead.\n",
      "\n",
      "  apple_data = pd.read_csv(data_path, usecols=['Apple Time', 'Apple Second Fraction', 'Apple X', 'Apple Y', 'Apple Z', 'Apple Magnitude'], parse_dates=[[0,1]], date_parser=parser_apple).dropna()\n"
     ]
    },
    {
     "name": "stdout",
     "output_type": "stream",
     "text": [
      "Processing Participant 2458 32/162\n"
     ]
    },
    {
     "name": "stderr",
     "output_type": "stream",
     "text": [
      "C:\\Users\\ntindall\\AppData\\Local\\Temp\\ipykernel_520\\3695143538.py:7: FutureWarning: \n",
      "        Use pd.to_datetime instead.\n",
      "\n",
      "  apple_data = pd.read_csv(data_path, usecols=['Apple Time', 'Apple Second Fraction', 'Apple X', 'Apple Y', 'Apple Z', 'Apple Magnitude'], parse_dates=[[0,1]], date_parser=parser_apple).dropna()\n"
     ]
    },
    {
     "name": "stdout",
     "output_type": "stream",
     "text": [
      "Processing Participant 2470 33/162\n"
     ]
    },
    {
     "name": "stderr",
     "output_type": "stream",
     "text": [
      "C:\\Users\\ntindall\\AppData\\Local\\Temp\\ipykernel_520\\3695143538.py:7: FutureWarning: \n",
      "        Use pd.to_datetime instead.\n",
      "\n",
      "  apple_data = pd.read_csv(data_path, usecols=['Apple Time', 'Apple Second Fraction', 'Apple X', 'Apple Y', 'Apple Z', 'Apple Magnitude'], parse_dates=[[0,1]], date_parser=parser_apple).dropna()\n"
     ]
    },
    {
     "name": "stdout",
     "output_type": "stream",
     "text": [
      "Processing Participant 2471 34/162\n"
     ]
    },
    {
     "name": "stderr",
     "output_type": "stream",
     "text": [
      "C:\\Users\\ntindall\\AppData\\Local\\Temp\\ipykernel_520\\3695143538.py:7: FutureWarning: \n",
      "        Use pd.to_datetime instead.\n",
      "\n",
      "  apple_data = pd.read_csv(data_path, usecols=['Apple Time', 'Apple Second Fraction', 'Apple X', 'Apple Y', 'Apple Z', 'Apple Magnitude'], parse_dates=[[0,1]], date_parser=parser_apple).dropna()\n"
     ]
    },
    {
     "name": "stdout",
     "output_type": "stream",
     "text": [
      "Processing Participant 2473 35/162\n"
     ]
    },
    {
     "name": "stderr",
     "output_type": "stream",
     "text": [
      "C:\\Users\\ntindall\\AppData\\Local\\Temp\\ipykernel_520\\3695143538.py:7: FutureWarning: \n",
      "        Use pd.to_datetime instead.\n",
      "\n",
      "  apple_data = pd.read_csv(data_path, usecols=['Apple Time', 'Apple Second Fraction', 'Apple X', 'Apple Y', 'Apple Z', 'Apple Magnitude'], parse_dates=[[0,1]], date_parser=parser_apple).dropna()\n"
     ]
    },
    {
     "name": "stdout",
     "output_type": "stream",
     "text": [
      "Processing Participant 2474 36/162\n"
     ]
    },
    {
     "name": "stderr",
     "output_type": "stream",
     "text": [
      "C:\\Users\\ntindall\\AppData\\Local\\Temp\\ipykernel_520\\3695143538.py:7: FutureWarning: \n",
      "        Use pd.to_datetime instead.\n",
      "\n",
      "  apple_data = pd.read_csv(data_path, usecols=['Apple Time', 'Apple Second Fraction', 'Apple X', 'Apple Y', 'Apple Z', 'Apple Magnitude'], parse_dates=[[0,1]], date_parser=parser_apple).dropna()\n"
     ]
    },
    {
     "name": "stdout",
     "output_type": "stream",
     "text": [
      "Processing Participant 2475 37/162\n"
     ]
    },
    {
     "name": "stderr",
     "output_type": "stream",
     "text": [
      "C:\\Users\\ntindall\\AppData\\Local\\Temp\\ipykernel_520\\3695143538.py:7: FutureWarning: \n",
      "        Use pd.to_datetime instead.\n",
      "\n",
      "  apple_data = pd.read_csv(data_path, usecols=['Apple Time', 'Apple Second Fraction', 'Apple X', 'Apple Y', 'Apple Z', 'Apple Magnitude'], parse_dates=[[0,1]], date_parser=parser_apple).dropna()\n"
     ]
    },
    {
     "name": "stdout",
     "output_type": "stream",
     "text": [
      "Processing Participant 2476 38/162\n"
     ]
    },
    {
     "name": "stderr",
     "output_type": "stream",
     "text": [
      "C:\\Users\\ntindall\\AppData\\Local\\Temp\\ipykernel_520\\3695143538.py:7: FutureWarning: \n",
      "        Use pd.to_datetime instead.\n",
      "\n",
      "  apple_data = pd.read_csv(data_path, usecols=['Apple Time', 'Apple Second Fraction', 'Apple X', 'Apple Y', 'Apple Z', 'Apple Magnitude'], parse_dates=[[0,1]], date_parser=parser_apple).dropna()\n"
     ]
    },
    {
     "name": "stdout",
     "output_type": "stream",
     "text": [
      "Processing Participant 2479 39/162\n"
     ]
    },
    {
     "name": "stderr",
     "output_type": "stream",
     "text": [
      "C:\\Users\\ntindall\\AppData\\Local\\Temp\\ipykernel_520\\3695143538.py:7: FutureWarning: \n",
      "        Use pd.to_datetime instead.\n",
      "\n",
      "  apple_data = pd.read_csv(data_path, usecols=['Apple Time', 'Apple Second Fraction', 'Apple X', 'Apple Y', 'Apple Z', 'Apple Magnitude'], parse_dates=[[0,1]], date_parser=parser_apple).dropna()\n"
     ]
    },
    {
     "name": "stdout",
     "output_type": "stream",
     "text": [
      "Processing Participant 2480 40/162\n"
     ]
    },
    {
     "name": "stderr",
     "output_type": "stream",
     "text": [
      "C:\\Users\\ntindall\\AppData\\Local\\Temp\\ipykernel_520\\3695143538.py:7: FutureWarning: \n",
      "        Use pd.to_datetime instead.\n",
      "\n",
      "  apple_data = pd.read_csv(data_path, usecols=['Apple Time', 'Apple Second Fraction', 'Apple X', 'Apple Y', 'Apple Z', 'Apple Magnitude'], parse_dates=[[0,1]], date_parser=parser_apple).dropna()\n"
     ]
    },
    {
     "name": "stdout",
     "output_type": "stream",
     "text": [
      "Processing Participant 2495 41/162\n"
     ]
    },
    {
     "name": "stderr",
     "output_type": "stream",
     "text": [
      "C:\\Users\\ntindall\\AppData\\Local\\Temp\\ipykernel_520\\3695143538.py:7: FutureWarning: \n",
      "        Use pd.to_datetime instead.\n",
      "\n",
      "  apple_data = pd.read_csv(data_path, usecols=['Apple Time', 'Apple Second Fraction', 'Apple X', 'Apple Y', 'Apple Z', 'Apple Magnitude'], parse_dates=[[0,1]], date_parser=parser_apple).dropna()\n"
     ]
    },
    {
     "name": "stdout",
     "output_type": "stream",
     "text": [
      "Processing Participant 2496 42/162\n"
     ]
    },
    {
     "name": "stderr",
     "output_type": "stream",
     "text": [
      "C:\\Users\\ntindall\\AppData\\Local\\Temp\\ipykernel_520\\3695143538.py:7: FutureWarning: \n",
      "        Use pd.to_datetime instead.\n",
      "\n",
      "  apple_data = pd.read_csv(data_path, usecols=['Apple Time', 'Apple Second Fraction', 'Apple X', 'Apple Y', 'Apple Z', 'Apple Magnitude'], parse_dates=[[0,1]], date_parser=parser_apple).dropna()\n"
     ]
    },
    {
     "name": "stdout",
     "output_type": "stream",
     "text": [
      "Processing Participant 2497 43/162\n"
     ]
    },
    {
     "name": "stderr",
     "output_type": "stream",
     "text": [
      "C:\\Users\\ntindall\\AppData\\Local\\Temp\\ipykernel_520\\3695143538.py:7: FutureWarning: \n",
      "        Use pd.to_datetime instead.\n",
      "\n",
      "  apple_data = pd.read_csv(data_path, usecols=['Apple Time', 'Apple Second Fraction', 'Apple X', 'Apple Y', 'Apple Z', 'Apple Magnitude'], parse_dates=[[0,1]], date_parser=parser_apple).dropna()\n"
     ]
    },
    {
     "name": "stdout",
     "output_type": "stream",
     "text": [
      "Processing Participant 2498 44/162\n"
     ]
    },
    {
     "name": "stderr",
     "output_type": "stream",
     "text": [
      "C:\\Users\\ntindall\\AppData\\Local\\Temp\\ipykernel_520\\3695143538.py:7: FutureWarning: \n",
      "        Use pd.to_datetime instead.\n",
      "\n",
      "  apple_data = pd.read_csv(data_path, usecols=['Apple Time', 'Apple Second Fraction', 'Apple X', 'Apple Y', 'Apple Z', 'Apple Magnitude'], parse_dates=[[0,1]], date_parser=parser_apple).dropna()\n"
     ]
    },
    {
     "name": "stdout",
     "output_type": "stream",
     "text": [
      "Processing Participant 2499 45/162\n"
     ]
    },
    {
     "name": "stderr",
     "output_type": "stream",
     "text": [
      "C:\\Users\\ntindall\\AppData\\Local\\Temp\\ipykernel_520\\3695143538.py:7: FutureWarning: \n",
      "        Use pd.to_datetime instead.\n",
      "\n",
      "  apple_data = pd.read_csv(data_path, usecols=['Apple Time', 'Apple Second Fraction', 'Apple X', 'Apple Y', 'Apple Z', 'Apple Magnitude'], parse_dates=[[0,1]], date_parser=parser_apple).dropna()\n"
     ]
    },
    {
     "name": "stdout",
     "output_type": "stream",
     "text": [
      "Processing Participant 2500 46/162\n"
     ]
    },
    {
     "name": "stderr",
     "output_type": "stream",
     "text": [
      "C:\\Users\\ntindall\\AppData\\Local\\Temp\\ipykernel_520\\3695143538.py:7: FutureWarning: \n",
      "        Use pd.to_datetime instead.\n",
      "\n",
      "  apple_data = pd.read_csv(data_path, usecols=['Apple Time', 'Apple Second Fraction', 'Apple X', 'Apple Y', 'Apple Z', 'Apple Magnitude'], parse_dates=[[0,1]], date_parser=parser_apple).dropna()\n"
     ]
    },
    {
     "name": "stdout",
     "output_type": "stream",
     "text": [
      "Processing Participant 2501 47/162\n"
     ]
    },
    {
     "name": "stderr",
     "output_type": "stream",
     "text": [
      "C:\\Users\\ntindall\\AppData\\Local\\Temp\\ipykernel_520\\3695143538.py:7: FutureWarning: \n",
      "        Use pd.to_datetime instead.\n",
      "\n",
      "  apple_data = pd.read_csv(data_path, usecols=['Apple Time', 'Apple Second Fraction', 'Apple X', 'Apple Y', 'Apple Z', 'Apple Magnitude'], parse_dates=[[0,1]], date_parser=parser_apple).dropna()\n"
     ]
    },
    {
     "name": "stdout",
     "output_type": "stream",
     "text": [
      "Processing Participant 2502 48/162\n"
     ]
    },
    {
     "name": "stderr",
     "output_type": "stream",
     "text": [
      "C:\\Users\\ntindall\\AppData\\Local\\Temp\\ipykernel_520\\3695143538.py:7: FutureWarning: \n",
      "        Use pd.to_datetime instead.\n",
      "\n",
      "  apple_data = pd.read_csv(data_path, usecols=['Apple Time', 'Apple Second Fraction', 'Apple X', 'Apple Y', 'Apple Z', 'Apple Magnitude'], parse_dates=[[0,1]], date_parser=parser_apple).dropna()\n"
     ]
    },
    {
     "name": "stdout",
     "output_type": "stream",
     "text": [
      "Processing Participant 2503 49/162\n"
     ]
    },
    {
     "name": "stderr",
     "output_type": "stream",
     "text": [
      "C:\\Users\\ntindall\\AppData\\Local\\Temp\\ipykernel_520\\3695143538.py:7: FutureWarning: \n",
      "        Use pd.to_datetime instead.\n",
      "\n",
      "  apple_data = pd.read_csv(data_path, usecols=['Apple Time', 'Apple Second Fraction', 'Apple X', 'Apple Y', 'Apple Z', 'Apple Magnitude'], parse_dates=[[0,1]], date_parser=parser_apple).dropna()\n"
     ]
    },
    {
     "name": "stdout",
     "output_type": "stream",
     "text": [
      "Processing Participant 2504 50/162\n"
     ]
    },
    {
     "name": "stderr",
     "output_type": "stream",
     "text": [
      "C:\\Users\\ntindall\\AppData\\Local\\Temp\\ipykernel_520\\3695143538.py:7: FutureWarning: \n",
      "        Use pd.to_datetime instead.\n",
      "\n",
      "  apple_data = pd.read_csv(data_path, usecols=['Apple Time', 'Apple Second Fraction', 'Apple X', 'Apple Y', 'Apple Z', 'Apple Magnitude'], parse_dates=[[0,1]], date_parser=parser_apple).dropna()\n"
     ]
    },
    {
     "name": "stdout",
     "output_type": "stream",
     "text": [
      "Processing Participant 2505 51/162\n"
     ]
    },
    {
     "name": "stderr",
     "output_type": "stream",
     "text": [
      "C:\\Users\\ntindall\\AppData\\Local\\Temp\\ipykernel_520\\3695143538.py:7: FutureWarning: \n",
      "        Use pd.to_datetime instead.\n",
      "\n",
      "  apple_data = pd.read_csv(data_path, usecols=['Apple Time', 'Apple Second Fraction', 'Apple X', 'Apple Y', 'Apple Z', 'Apple Magnitude'], parse_dates=[[0,1]], date_parser=parser_apple).dropna()\n"
     ]
    },
    {
     "name": "stdout",
     "output_type": "stream",
     "text": [
      "Processing Participant 2506 52/162\n"
     ]
    },
    {
     "name": "stderr",
     "output_type": "stream",
     "text": [
      "C:\\Users\\ntindall\\AppData\\Local\\Temp\\ipykernel_520\\3695143538.py:7: FutureWarning: \n",
      "        Use pd.to_datetime instead.\n",
      "\n",
      "  apple_data = pd.read_csv(data_path, usecols=['Apple Time', 'Apple Second Fraction', 'Apple X', 'Apple Y', 'Apple Z', 'Apple Magnitude'], parse_dates=[[0,1]], date_parser=parser_apple).dropna()\n"
     ]
    },
    {
     "name": "stdout",
     "output_type": "stream",
     "text": [
      "Processing Participant 2507 53/162\n"
     ]
    },
    {
     "name": "stderr",
     "output_type": "stream",
     "text": [
      "C:\\Users\\ntindall\\AppData\\Local\\Temp\\ipykernel_520\\3695143538.py:7: FutureWarning: \n",
      "        Use pd.to_datetime instead.\n",
      "\n",
      "  apple_data = pd.read_csv(data_path, usecols=['Apple Time', 'Apple Second Fraction', 'Apple X', 'Apple Y', 'Apple Z', 'Apple Magnitude'], parse_dates=[[0,1]], date_parser=parser_apple).dropna()\n"
     ]
    },
    {
     "name": "stdout",
     "output_type": "stream",
     "text": [
      "Processing Participant 2508 54/162\n"
     ]
    },
    {
     "name": "stderr",
     "output_type": "stream",
     "text": [
      "C:\\Users\\ntindall\\AppData\\Local\\Temp\\ipykernel_520\\3695143538.py:7: FutureWarning: \n",
      "        Use pd.to_datetime instead.\n",
      "\n",
      "  apple_data = pd.read_csv(data_path, usecols=['Apple Time', 'Apple Second Fraction', 'Apple X', 'Apple Y', 'Apple Z', 'Apple Magnitude'], parse_dates=[[0,1]], date_parser=parser_apple).dropna()\n"
     ]
    },
    {
     "name": "stdout",
     "output_type": "stream",
     "text": [
      "Processing Participant 2517 55/162\n"
     ]
    },
    {
     "name": "stderr",
     "output_type": "stream",
     "text": [
      "C:\\Users\\ntindall\\AppData\\Local\\Temp\\ipykernel_520\\3695143538.py:7: FutureWarning: \n",
      "        Use pd.to_datetime instead.\n",
      "\n",
      "  apple_data = pd.read_csv(data_path, usecols=['Apple Time', 'Apple Second Fraction', 'Apple X', 'Apple Y', 'Apple Z', 'Apple Magnitude'], parse_dates=[[0,1]], date_parser=parser_apple).dropna()\n"
     ]
    },
    {
     "name": "stdout",
     "output_type": "stream",
     "text": [
      "Processing Participant 2525 56/162\n"
     ]
    },
    {
     "name": "stderr",
     "output_type": "stream",
     "text": [
      "C:\\Users\\ntindall\\AppData\\Local\\Temp\\ipykernel_520\\3695143538.py:7: FutureWarning: \n",
      "        Use pd.to_datetime instead.\n",
      "\n",
      "  apple_data = pd.read_csv(data_path, usecols=['Apple Time', 'Apple Second Fraction', 'Apple X', 'Apple Y', 'Apple Z', 'Apple Magnitude'], parse_dates=[[0,1]], date_parser=parser_apple).dropna()\n"
     ]
    },
    {
     "name": "stdout",
     "output_type": "stream",
     "text": [
      "Processing Participant 2531 57/162\n"
     ]
    },
    {
     "name": "stderr",
     "output_type": "stream",
     "text": [
      "C:\\Users\\ntindall\\AppData\\Local\\Temp\\ipykernel_520\\3695143538.py:7: FutureWarning: \n",
      "        Use pd.to_datetime instead.\n",
      "\n",
      "  apple_data = pd.read_csv(data_path, usecols=['Apple Time', 'Apple Second Fraction', 'Apple X', 'Apple Y', 'Apple Z', 'Apple Magnitude'], parse_dates=[[0,1]], date_parser=parser_apple).dropna()\n"
     ]
    },
    {
     "name": "stdout",
     "output_type": "stream",
     "text": [
      "Processing Participant 2532 58/162\n"
     ]
    },
    {
     "name": "stderr",
     "output_type": "stream",
     "text": [
      "C:\\Users\\ntindall\\AppData\\Local\\Temp\\ipykernel_520\\3695143538.py:7: FutureWarning: \n",
      "        Use pd.to_datetime instead.\n",
      "\n",
      "  apple_data = pd.read_csv(data_path, usecols=['Apple Time', 'Apple Second Fraction', 'Apple X', 'Apple Y', 'Apple Z', 'Apple Magnitude'], parse_dates=[[0,1]], date_parser=parser_apple).dropna()\n"
     ]
    },
    {
     "name": "stdout",
     "output_type": "stream",
     "text": [
      "Processing Participant 2533 59/162\n"
     ]
    },
    {
     "name": "stderr",
     "output_type": "stream",
     "text": [
      "C:\\Users\\ntindall\\AppData\\Local\\Temp\\ipykernel_520\\3695143538.py:7: FutureWarning: \n",
      "        Use pd.to_datetime instead.\n",
      "\n",
      "  apple_data = pd.read_csv(data_path, usecols=['Apple Time', 'Apple Second Fraction', 'Apple X', 'Apple Y', 'Apple Z', 'Apple Magnitude'], parse_dates=[[0,1]], date_parser=parser_apple).dropna()\n"
     ]
    },
    {
     "name": "stdout",
     "output_type": "stream",
     "text": [
      "Processing Participant 2540 60/162\n"
     ]
    },
    {
     "name": "stderr",
     "output_type": "stream",
     "text": [
      "C:\\Users\\ntindall\\AppData\\Local\\Temp\\ipykernel_520\\3695143538.py:7: FutureWarning: \n",
      "        Use pd.to_datetime instead.\n",
      "\n",
      "  apple_data = pd.read_csv(data_path, usecols=['Apple Time', 'Apple Second Fraction', 'Apple X', 'Apple Y', 'Apple Z', 'Apple Magnitude'], parse_dates=[[0,1]], date_parser=parser_apple).dropna()\n"
     ]
    },
    {
     "name": "stdout",
     "output_type": "stream",
     "text": [
      "Processing Participant 2541 61/162\n"
     ]
    },
    {
     "name": "stderr",
     "output_type": "stream",
     "text": [
      "C:\\Users\\ntindall\\AppData\\Local\\Temp\\ipykernel_520\\3695143538.py:7: FutureWarning: \n",
      "        Use pd.to_datetime instead.\n",
      "\n",
      "  apple_data = pd.read_csv(data_path, usecols=['Apple Time', 'Apple Second Fraction', 'Apple X', 'Apple Y', 'Apple Z', 'Apple Magnitude'], parse_dates=[[0,1]], date_parser=parser_apple).dropna()\n"
     ]
    },
    {
     "name": "stdout",
     "output_type": "stream",
     "text": [
      "Processing Participant 2542 62/162\n"
     ]
    },
    {
     "name": "stderr",
     "output_type": "stream",
     "text": [
      "C:\\Users\\ntindall\\AppData\\Local\\Temp\\ipykernel_520\\3695143538.py:7: FutureWarning: \n",
      "        Use pd.to_datetime instead.\n",
      "\n",
      "  apple_data = pd.read_csv(data_path, usecols=['Apple Time', 'Apple Second Fraction', 'Apple X', 'Apple Y', 'Apple Z', 'Apple Magnitude'], parse_dates=[[0,1]], date_parser=parser_apple).dropna()\n"
     ]
    },
    {
     "name": "stdout",
     "output_type": "stream",
     "text": [
      "Processing Participant 2543 63/162\n"
     ]
    },
    {
     "name": "stderr",
     "output_type": "stream",
     "text": [
      "C:\\Users\\ntindall\\AppData\\Local\\Temp\\ipykernel_520\\3695143538.py:7: FutureWarning: \n",
      "        Use pd.to_datetime instead.\n",
      "\n",
      "  apple_data = pd.read_csv(data_path, usecols=['Apple Time', 'Apple Second Fraction', 'Apple X', 'Apple Y', 'Apple Z', 'Apple Magnitude'], parse_dates=[[0,1]], date_parser=parser_apple).dropna()\n"
     ]
    },
    {
     "name": "stdout",
     "output_type": "stream",
     "text": [
      "Processing Participant 2544 64/162\n"
     ]
    },
    {
     "name": "stderr",
     "output_type": "stream",
     "text": [
      "C:\\Users\\ntindall\\AppData\\Local\\Temp\\ipykernel_520\\3695143538.py:7: FutureWarning: \n",
      "        Use pd.to_datetime instead.\n",
      "\n",
      "  apple_data = pd.read_csv(data_path, usecols=['Apple Time', 'Apple Second Fraction', 'Apple X', 'Apple Y', 'Apple Z', 'Apple Magnitude'], parse_dates=[[0,1]], date_parser=parser_apple).dropna()\n"
     ]
    },
    {
     "name": "stdout",
     "output_type": "stream",
     "text": [
      "Processing Participant 2545 65/162\n"
     ]
    },
    {
     "name": "stderr",
     "output_type": "stream",
     "text": [
      "C:\\Users\\ntindall\\AppData\\Local\\Temp\\ipykernel_520\\3695143538.py:7: FutureWarning: \n",
      "        Use pd.to_datetime instead.\n",
      "\n",
      "  apple_data = pd.read_csv(data_path, usecols=['Apple Time', 'Apple Second Fraction', 'Apple X', 'Apple Y', 'Apple Z', 'Apple Magnitude'], parse_dates=[[0,1]], date_parser=parser_apple).dropna()\n"
     ]
    },
    {
     "name": "stdout",
     "output_type": "stream",
     "text": [
      "Processing Participant 2546 66/162\n"
     ]
    },
    {
     "name": "stderr",
     "output_type": "stream",
     "text": [
      "C:\\Users\\ntindall\\AppData\\Local\\Temp\\ipykernel_520\\3695143538.py:7: FutureWarning: \n",
      "        Use pd.to_datetime instead.\n",
      "\n",
      "  apple_data = pd.read_csv(data_path, usecols=['Apple Time', 'Apple Second Fraction', 'Apple X', 'Apple Y', 'Apple Z', 'Apple Magnitude'], parse_dates=[[0,1]], date_parser=parser_apple).dropna()\n"
     ]
    },
    {
     "name": "stdout",
     "output_type": "stream",
     "text": [
      "Processing Participant 2557 67/162\n"
     ]
    },
    {
     "name": "stderr",
     "output_type": "stream",
     "text": [
      "C:\\Users\\ntindall\\AppData\\Local\\Temp\\ipykernel_520\\3695143538.py:7: FutureWarning: \n",
      "        Use pd.to_datetime instead.\n",
      "\n",
      "  apple_data = pd.read_csv(data_path, usecols=['Apple Time', 'Apple Second Fraction', 'Apple X', 'Apple Y', 'Apple Z', 'Apple Magnitude'], parse_dates=[[0,1]], date_parser=parser_apple).dropna()\n"
     ]
    },
    {
     "name": "stdout",
     "output_type": "stream",
     "text": [
      "Processing Participant 2558 68/162\n"
     ]
    },
    {
     "name": "stderr",
     "output_type": "stream",
     "text": [
      "C:\\Users\\ntindall\\AppData\\Local\\Temp\\ipykernel_520\\3695143538.py:7: FutureWarning: \n",
      "        Use pd.to_datetime instead.\n",
      "\n",
      "  apple_data = pd.read_csv(data_path, usecols=['Apple Time', 'Apple Second Fraction', 'Apple X', 'Apple Y', 'Apple Z', 'Apple Magnitude'], parse_dates=[[0,1]], date_parser=parser_apple).dropna()\n"
     ]
    },
    {
     "name": "stdout",
     "output_type": "stream",
     "text": [
      "Processing Participant 2559 69/162\n"
     ]
    },
    {
     "name": "stderr",
     "output_type": "stream",
     "text": [
      "C:\\Users\\ntindall\\AppData\\Local\\Temp\\ipykernel_520\\3695143538.py:7: FutureWarning: \n",
      "        Use pd.to_datetime instead.\n",
      "\n",
      "  apple_data = pd.read_csv(data_path, usecols=['Apple Time', 'Apple Second Fraction', 'Apple X', 'Apple Y', 'Apple Z', 'Apple Magnitude'], parse_dates=[[0,1]], date_parser=parser_apple).dropna()\n"
     ]
    },
    {
     "name": "stdout",
     "output_type": "stream",
     "text": [
      "Processing Participant 2560 70/162\n"
     ]
    },
    {
     "name": "stderr",
     "output_type": "stream",
     "text": [
      "C:\\Users\\ntindall\\AppData\\Local\\Temp\\ipykernel_520\\3695143538.py:7: FutureWarning: \n",
      "        Use pd.to_datetime instead.\n",
      "\n",
      "  apple_data = pd.read_csv(data_path, usecols=['Apple Time', 'Apple Second Fraction', 'Apple X', 'Apple Y', 'Apple Z', 'Apple Magnitude'], parse_dates=[[0,1]], date_parser=parser_apple).dropna()\n"
     ]
    },
    {
     "name": "stdout",
     "output_type": "stream",
     "text": [
      "Processing Participant 2566 71/162\n"
     ]
    },
    {
     "name": "stderr",
     "output_type": "stream",
     "text": [
      "C:\\Users\\ntindall\\AppData\\Local\\Temp\\ipykernel_520\\3695143538.py:7: FutureWarning: \n",
      "        Use pd.to_datetime instead.\n",
      "\n",
      "  apple_data = pd.read_csv(data_path, usecols=['Apple Time', 'Apple Second Fraction', 'Apple X', 'Apple Y', 'Apple Z', 'Apple Magnitude'], parse_dates=[[0,1]], date_parser=parser_apple).dropna()\n"
     ]
    },
    {
     "name": "stdout",
     "output_type": "stream",
     "text": [
      "Processing Participant 2576 72/162\n"
     ]
    },
    {
     "name": "stderr",
     "output_type": "stream",
     "text": [
      "C:\\Users\\ntindall\\AppData\\Local\\Temp\\ipykernel_520\\3695143538.py:7: FutureWarning: \n",
      "        Use pd.to_datetime instead.\n",
      "\n",
      "  apple_data = pd.read_csv(data_path, usecols=['Apple Time', 'Apple Second Fraction', 'Apple X', 'Apple Y', 'Apple Z', 'Apple Magnitude'], parse_dates=[[0,1]], date_parser=parser_apple).dropna()\n"
     ]
    },
    {
     "name": "stdout",
     "output_type": "stream",
     "text": [
      "Processing Participant 2584 73/162\n"
     ]
    },
    {
     "name": "stderr",
     "output_type": "stream",
     "text": [
      "C:\\Users\\ntindall\\AppData\\Local\\Temp\\ipykernel_520\\3695143538.py:7: FutureWarning: \n",
      "        Use pd.to_datetime instead.\n",
      "\n",
      "  apple_data = pd.read_csv(data_path, usecols=['Apple Time', 'Apple Second Fraction', 'Apple X', 'Apple Y', 'Apple Z', 'Apple Magnitude'], parse_dates=[[0,1]], date_parser=parser_apple).dropna()\n"
     ]
    },
    {
     "name": "stdout",
     "output_type": "stream",
     "text": [
      "Processing Participant 2588 74/162\n"
     ]
    },
    {
     "name": "stderr",
     "output_type": "stream",
     "text": [
      "C:\\Users\\ntindall\\AppData\\Local\\Temp\\ipykernel_520\\3695143538.py:7: FutureWarning: \n",
      "        Use pd.to_datetime instead.\n",
      "\n",
      "  apple_data = pd.read_csv(data_path, usecols=['Apple Time', 'Apple Second Fraction', 'Apple X', 'Apple Y', 'Apple Z', 'Apple Magnitude'], parse_dates=[[0,1]], date_parser=parser_apple).dropna()\n"
     ]
    },
    {
     "name": "stdout",
     "output_type": "stream",
     "text": [
      "Processing Participant 2589 75/162\n"
     ]
    },
    {
     "name": "stderr",
     "output_type": "stream",
     "text": [
      "C:\\Users\\ntindall\\AppData\\Local\\Temp\\ipykernel_520\\3695143538.py:7: FutureWarning: \n",
      "        Use pd.to_datetime instead.\n",
      "\n",
      "  apple_data = pd.read_csv(data_path, usecols=['Apple Time', 'Apple Second Fraction', 'Apple X', 'Apple Y', 'Apple Z', 'Apple Magnitude'], parse_dates=[[0,1]], date_parser=parser_apple).dropna()\n"
     ]
    },
    {
     "name": "stdout",
     "output_type": "stream",
     "text": [
      "Processing Participant 2596 76/162\n",
      "No Apple Data for 2596\n",
      "Processing Participant 2601 77/162\n"
     ]
    },
    {
     "name": "stderr",
     "output_type": "stream",
     "text": [
      "C:\\Users\\ntindall\\AppData\\Local\\Temp\\ipykernel_520\\3695143538.py:7: FutureWarning: \n",
      "        Use pd.to_datetime instead.\n",
      "\n",
      "  apple_data = pd.read_csv(data_path, usecols=['Apple Time', 'Apple Second Fraction', 'Apple X', 'Apple Y', 'Apple Z', 'Apple Magnitude'], parse_dates=[[0,1]], date_parser=parser_apple).dropna()\n"
     ]
    },
    {
     "name": "stdout",
     "output_type": "stream",
     "text": [
      "Processing Participant 2604 78/162\n"
     ]
    },
    {
     "name": "stderr",
     "output_type": "stream",
     "text": [
      "C:\\Users\\ntindall\\AppData\\Local\\Temp\\ipykernel_520\\3695143538.py:7: FutureWarning: \n",
      "        Use pd.to_datetime instead.\n",
      "\n",
      "  apple_data = pd.read_csv(data_path, usecols=['Apple Time', 'Apple Second Fraction', 'Apple X', 'Apple Y', 'Apple Z', 'Apple Magnitude'], parse_dates=[[0,1]], date_parser=parser_apple).dropna()\n"
     ]
    },
    {
     "name": "stdout",
     "output_type": "stream",
     "text": [
      "Processing Participant 2605 79/162\n"
     ]
    },
    {
     "name": "stderr",
     "output_type": "stream",
     "text": [
      "C:\\Users\\ntindall\\AppData\\Local\\Temp\\ipykernel_520\\3695143538.py:7: FutureWarning: \n",
      "        Use pd.to_datetime instead.\n",
      "\n",
      "  apple_data = pd.read_csv(data_path, usecols=['Apple Time', 'Apple Second Fraction', 'Apple X', 'Apple Y', 'Apple Z', 'Apple Magnitude'], parse_dates=[[0,1]], date_parser=parser_apple).dropna()\n"
     ]
    },
    {
     "name": "stdout",
     "output_type": "stream",
     "text": [
      "Processing Participant 2608 80/162\n",
      "No Apple Data for 2608\n",
      "Processing Participant 2611 81/162\n"
     ]
    },
    {
     "name": "stderr",
     "output_type": "stream",
     "text": [
      "C:\\Users\\ntindall\\AppData\\Local\\Temp\\ipykernel_520\\3695143538.py:7: FutureWarning: \n",
      "        Use pd.to_datetime instead.\n",
      "\n",
      "  apple_data = pd.read_csv(data_path, usecols=['Apple Time', 'Apple Second Fraction', 'Apple X', 'Apple Y', 'Apple Z', 'Apple Magnitude'], parse_dates=[[0,1]], date_parser=parser_apple).dropna()\n"
     ]
    },
    {
     "name": "stdout",
     "output_type": "stream",
     "text": [
      "Processing Participant 2612 82/162\n"
     ]
    },
    {
     "name": "stderr",
     "output_type": "stream",
     "text": [
      "C:\\Users\\ntindall\\AppData\\Local\\Temp\\ipykernel_520\\3695143538.py:7: FutureWarning: \n",
      "        Use pd.to_datetime instead.\n",
      "\n",
      "  apple_data = pd.read_csv(data_path, usecols=['Apple Time', 'Apple Second Fraction', 'Apple X', 'Apple Y', 'Apple Z', 'Apple Magnitude'], parse_dates=[[0,1]], date_parser=parser_apple).dropna()\n"
     ]
    },
    {
     "name": "stdout",
     "output_type": "stream",
     "text": [
      "Processing Participant 2613 83/162\n"
     ]
    },
    {
     "name": "stderr",
     "output_type": "stream",
     "text": [
      "C:\\Users\\ntindall\\AppData\\Local\\Temp\\ipykernel_520\\3695143538.py:7: FutureWarning: \n",
      "        Use pd.to_datetime instead.\n",
      "\n",
      "  apple_data = pd.read_csv(data_path, usecols=['Apple Time', 'Apple Second Fraction', 'Apple X', 'Apple Y', 'Apple Z', 'Apple Magnitude'], parse_dates=[[0,1]], date_parser=parser_apple).dropna()\n"
     ]
    },
    {
     "name": "stdout",
     "output_type": "stream",
     "text": [
      "Processing Participant 2628 84/162\n"
     ]
    },
    {
     "name": "stderr",
     "output_type": "stream",
     "text": [
      "C:\\Users\\ntindall\\AppData\\Local\\Temp\\ipykernel_520\\3695143538.py:7: FutureWarning: \n",
      "        Use pd.to_datetime instead.\n",
      "\n",
      "  apple_data = pd.read_csv(data_path, usecols=['Apple Time', 'Apple Second Fraction', 'Apple X', 'Apple Y', 'Apple Z', 'Apple Magnitude'], parse_dates=[[0,1]], date_parser=parser_apple).dropna()\n"
     ]
    },
    {
     "name": "stdout",
     "output_type": "stream",
     "text": [
      "Processing Participant 2629 85/162\n"
     ]
    },
    {
     "name": "stderr",
     "output_type": "stream",
     "text": [
      "C:\\Users\\ntindall\\AppData\\Local\\Temp\\ipykernel_520\\3695143538.py:7: FutureWarning: \n",
      "        Use pd.to_datetime instead.\n",
      "\n",
      "  apple_data = pd.read_csv(data_path, usecols=['Apple Time', 'Apple Second Fraction', 'Apple X', 'Apple Y', 'Apple Z', 'Apple Magnitude'], parse_dates=[[0,1]], date_parser=parser_apple).dropna()\n"
     ]
    },
    {
     "name": "stdout",
     "output_type": "stream",
     "text": [
      "Processing Participant 2630 86/162\n"
     ]
    },
    {
     "name": "stderr",
     "output_type": "stream",
     "text": [
      "C:\\Users\\ntindall\\AppData\\Local\\Temp\\ipykernel_520\\3695143538.py:7: FutureWarning: \n",
      "        Use pd.to_datetime instead.\n",
      "\n",
      "  apple_data = pd.read_csv(data_path, usecols=['Apple Time', 'Apple Second Fraction', 'Apple X', 'Apple Y', 'Apple Z', 'Apple Magnitude'], parse_dates=[[0,1]], date_parser=parser_apple).dropna()\n"
     ]
    },
    {
     "name": "stdout",
     "output_type": "stream",
     "text": [
      "Processing Participant 2631 87/162\n"
     ]
    },
    {
     "name": "stderr",
     "output_type": "stream",
     "text": [
      "C:\\Users\\ntindall\\AppData\\Local\\Temp\\ipykernel_520\\3695143538.py:7: FutureWarning: \n",
      "        Use pd.to_datetime instead.\n",
      "\n",
      "  apple_data = pd.read_csv(data_path, usecols=['Apple Time', 'Apple Second Fraction', 'Apple X', 'Apple Y', 'Apple Z', 'Apple Magnitude'], parse_dates=[[0,1]], date_parser=parser_apple).dropna()\n"
     ]
    },
    {
     "name": "stdout",
     "output_type": "stream",
     "text": [
      "Processing Participant 2635 88/162\n",
      "No Apple Data for 2635\n",
      "Processing Participant 2637 89/162\n",
      "No Apple Data for 2637\n",
      "Processing Participant 2639 90/162\n"
     ]
    },
    {
     "name": "stderr",
     "output_type": "stream",
     "text": [
      "C:\\Users\\ntindall\\AppData\\Local\\Temp\\ipykernel_520\\3695143538.py:7: FutureWarning: \n",
      "        Use pd.to_datetime instead.\n",
      "\n",
      "  apple_data = pd.read_csv(data_path, usecols=['Apple Time', 'Apple Second Fraction', 'Apple X', 'Apple Y', 'Apple Z', 'Apple Magnitude'], parse_dates=[[0,1]], date_parser=parser_apple).dropna()\n"
     ]
    },
    {
     "name": "stdout",
     "output_type": "stream",
     "text": [
      "Processing Participant 2640 91/162\n"
     ]
    },
    {
     "name": "stderr",
     "output_type": "stream",
     "text": [
      "C:\\Users\\ntindall\\AppData\\Local\\Temp\\ipykernel_520\\3695143538.py:7: FutureWarning: \n",
      "        Use pd.to_datetime instead.\n",
      "\n",
      "  apple_data = pd.read_csv(data_path, usecols=['Apple Time', 'Apple Second Fraction', 'Apple X', 'Apple Y', 'Apple Z', 'Apple Magnitude'], parse_dates=[[0,1]], date_parser=parser_apple).dropna()\n"
     ]
    },
    {
     "name": "stdout",
     "output_type": "stream",
     "text": [
      "Processing Participant 2641 92/162\n"
     ]
    },
    {
     "name": "stderr",
     "output_type": "stream",
     "text": [
      "C:\\Users\\ntindall\\AppData\\Local\\Temp\\ipykernel_520\\3695143538.py:7: FutureWarning: \n",
      "        Use pd.to_datetime instead.\n",
      "\n",
      "  apple_data = pd.read_csv(data_path, usecols=['Apple Time', 'Apple Second Fraction', 'Apple X', 'Apple Y', 'Apple Z', 'Apple Magnitude'], parse_dates=[[0,1]], date_parser=parser_apple).dropna()\n"
     ]
    },
    {
     "name": "stdout",
     "output_type": "stream",
     "text": [
      "Processing Participant 2642 93/162\n"
     ]
    },
    {
     "name": "stderr",
     "output_type": "stream",
     "text": [
      "C:\\Users\\ntindall\\AppData\\Local\\Temp\\ipykernel_520\\3695143538.py:7: FutureWarning: \n",
      "        Use pd.to_datetime instead.\n",
      "\n",
      "  apple_data = pd.read_csv(data_path, usecols=['Apple Time', 'Apple Second Fraction', 'Apple X', 'Apple Y', 'Apple Z', 'Apple Magnitude'], parse_dates=[[0,1]], date_parser=parser_apple).dropna()\n"
     ]
    },
    {
     "name": "stdout",
     "output_type": "stream",
     "text": [
      "Processing Participant 2643 94/162\n"
     ]
    },
    {
     "name": "stderr",
     "output_type": "stream",
     "text": [
      "C:\\Users\\ntindall\\AppData\\Local\\Temp\\ipykernel_520\\3695143538.py:7: FutureWarning: \n",
      "        Use pd.to_datetime instead.\n",
      "\n",
      "  apple_data = pd.read_csv(data_path, usecols=['Apple Time', 'Apple Second Fraction', 'Apple X', 'Apple Y', 'Apple Z', 'Apple Magnitude'], parse_dates=[[0,1]], date_parser=parser_apple).dropna()\n"
     ]
    },
    {
     "name": "stdout",
     "output_type": "stream",
     "text": [
      "Processing Participant 2644 95/162\n"
     ]
    },
    {
     "name": "stderr",
     "output_type": "stream",
     "text": [
      "C:\\Users\\ntindall\\AppData\\Local\\Temp\\ipykernel_520\\3695143538.py:7: FutureWarning: \n",
      "        Use pd.to_datetime instead.\n",
      "\n",
      "  apple_data = pd.read_csv(data_path, usecols=['Apple Time', 'Apple Second Fraction', 'Apple X', 'Apple Y', 'Apple Z', 'Apple Magnitude'], parse_dates=[[0,1]], date_parser=parser_apple).dropna()\n"
     ]
    },
    {
     "name": "stdout",
     "output_type": "stream",
     "text": [
      "Processing Participant 2645 96/162\n"
     ]
    },
    {
     "name": "stderr",
     "output_type": "stream",
     "text": [
      "C:\\Users\\ntindall\\AppData\\Local\\Temp\\ipykernel_520\\3695143538.py:7: FutureWarning: \n",
      "        Use pd.to_datetime instead.\n",
      "\n",
      "  apple_data = pd.read_csv(data_path, usecols=['Apple Time', 'Apple Second Fraction', 'Apple X', 'Apple Y', 'Apple Z', 'Apple Magnitude'], parse_dates=[[0,1]], date_parser=parser_apple).dropna()\n"
     ]
    },
    {
     "name": "stdout",
     "output_type": "stream",
     "text": [
      "Processing Participant 2646 97/162\n"
     ]
    },
    {
     "name": "stderr",
     "output_type": "stream",
     "text": [
      "C:\\Users\\ntindall\\AppData\\Local\\Temp\\ipykernel_520\\3695143538.py:7: FutureWarning: \n",
      "        Use pd.to_datetime instead.\n",
      "\n",
      "  apple_data = pd.read_csv(data_path, usecols=['Apple Time', 'Apple Second Fraction', 'Apple X', 'Apple Y', 'Apple Z', 'Apple Magnitude'], parse_dates=[[0,1]], date_parser=parser_apple).dropna()\n"
     ]
    },
    {
     "name": "stdout",
     "output_type": "stream",
     "text": [
      "Processing Participant 2647 98/162\n"
     ]
    },
    {
     "name": "stderr",
     "output_type": "stream",
     "text": [
      "C:\\Users\\ntindall\\AppData\\Local\\Temp\\ipykernel_520\\3695143538.py:7: FutureWarning: \n",
      "        Use pd.to_datetime instead.\n",
      "\n",
      "  apple_data = pd.read_csv(data_path, usecols=['Apple Time', 'Apple Second Fraction', 'Apple X', 'Apple Y', 'Apple Z', 'Apple Magnitude'], parse_dates=[[0,1]], date_parser=parser_apple).dropna()\n"
     ]
    },
    {
     "name": "stdout",
     "output_type": "stream",
     "text": [
      "Processing Participant 2648 99/162\n"
     ]
    },
    {
     "name": "stderr",
     "output_type": "stream",
     "text": [
      "C:\\Users\\ntindall\\AppData\\Local\\Temp\\ipykernel_520\\3695143538.py:7: FutureWarning: \n",
      "        Use pd.to_datetime instead.\n",
      "\n",
      "  apple_data = pd.read_csv(data_path, usecols=['Apple Time', 'Apple Second Fraction', 'Apple X', 'Apple Y', 'Apple Z', 'Apple Magnitude'], parse_dates=[[0,1]], date_parser=parser_apple).dropna()\n"
     ]
    },
    {
     "name": "stdout",
     "output_type": "stream",
     "text": [
      "Processing Participant 2649 100/162\n"
     ]
    },
    {
     "name": "stderr",
     "output_type": "stream",
     "text": [
      "C:\\Users\\ntindall\\AppData\\Local\\Temp\\ipykernel_520\\3695143538.py:7: FutureWarning: \n",
      "        Use pd.to_datetime instead.\n",
      "\n",
      "  apple_data = pd.read_csv(data_path, usecols=['Apple Time', 'Apple Second Fraction', 'Apple X', 'Apple Y', 'Apple Z', 'Apple Magnitude'], parse_dates=[[0,1]], date_parser=parser_apple).dropna()\n"
     ]
    },
    {
     "name": "stdout",
     "output_type": "stream",
     "text": [
      "Processing Participant 2650 101/162\n"
     ]
    },
    {
     "name": "stderr",
     "output_type": "stream",
     "text": [
      "C:\\Users\\ntindall\\AppData\\Local\\Temp\\ipykernel_520\\3695143538.py:7: FutureWarning: \n",
      "        Use pd.to_datetime instead.\n",
      "\n",
      "  apple_data = pd.read_csv(data_path, usecols=['Apple Time', 'Apple Second Fraction', 'Apple X', 'Apple Y', 'Apple Z', 'Apple Magnitude'], parse_dates=[[0,1]], date_parser=parser_apple).dropna()\n"
     ]
    },
    {
     "name": "stdout",
     "output_type": "stream",
     "text": [
      "Processing Participant 2651 102/162\n"
     ]
    },
    {
     "name": "stderr",
     "output_type": "stream",
     "text": [
      "C:\\Users\\ntindall\\AppData\\Local\\Temp\\ipykernel_520\\3695143538.py:7: FutureWarning: \n",
      "        Use pd.to_datetime instead.\n",
      "\n",
      "  apple_data = pd.read_csv(data_path, usecols=['Apple Time', 'Apple Second Fraction', 'Apple X', 'Apple Y', 'Apple Z', 'Apple Magnitude'], parse_dates=[[0,1]], date_parser=parser_apple).dropna()\n"
     ]
    },
    {
     "name": "stdout",
     "output_type": "stream",
     "text": [
      "Processing Participant 2653 103/162\n",
      "No Apple Data for 2653\n",
      "Processing Participant 2657 104/162\n"
     ]
    },
    {
     "name": "stderr",
     "output_type": "stream",
     "text": [
      "C:\\Users\\ntindall\\AppData\\Local\\Temp\\ipykernel_520\\3695143538.py:7: FutureWarning: \n",
      "        Use pd.to_datetime instead.\n",
      "\n",
      "  apple_data = pd.read_csv(data_path, usecols=['Apple Time', 'Apple Second Fraction', 'Apple X', 'Apple Y', 'Apple Z', 'Apple Magnitude'], parse_dates=[[0,1]], date_parser=parser_apple).dropna()\n"
     ]
    },
    {
     "name": "stdout",
     "output_type": "stream",
     "text": [
      "Processing Participant 2661 105/162\n",
      "No Apple Data for 2661\n",
      "Processing Participant 2662 106/162\n"
     ]
    },
    {
     "name": "stderr",
     "output_type": "stream",
     "text": [
      "C:\\Users\\ntindall\\AppData\\Local\\Temp\\ipykernel_520\\3695143538.py:7: FutureWarning: \n",
      "        Use pd.to_datetime instead.\n",
      "\n",
      "  apple_data = pd.read_csv(data_path, usecols=['Apple Time', 'Apple Second Fraction', 'Apple X', 'Apple Y', 'Apple Z', 'Apple Magnitude'], parse_dates=[[0,1]], date_parser=parser_apple).dropna()\n"
     ]
    },
    {
     "name": "stdout",
     "output_type": "stream",
     "text": [
      "Processing Participant 2663 107/162\n"
     ]
    },
    {
     "name": "stderr",
     "output_type": "stream",
     "text": [
      "C:\\Users\\ntindall\\AppData\\Local\\Temp\\ipykernel_520\\3695143538.py:7: FutureWarning: \n",
      "        Use pd.to_datetime instead.\n",
      "\n",
      "  apple_data = pd.read_csv(data_path, usecols=['Apple Time', 'Apple Second Fraction', 'Apple X', 'Apple Y', 'Apple Z', 'Apple Magnitude'], parse_dates=[[0,1]], date_parser=parser_apple).dropna()\n"
     ]
    },
    {
     "name": "stdout",
     "output_type": "stream",
     "text": [
      "Processing Participant 2664 108/162\n"
     ]
    },
    {
     "name": "stderr",
     "output_type": "stream",
     "text": [
      "C:\\Users\\ntindall\\AppData\\Local\\Temp\\ipykernel_520\\3695143538.py:7: FutureWarning: \n",
      "        Use pd.to_datetime instead.\n",
      "\n",
      "  apple_data = pd.read_csv(data_path, usecols=['Apple Time', 'Apple Second Fraction', 'Apple X', 'Apple Y', 'Apple Z', 'Apple Magnitude'], parse_dates=[[0,1]], date_parser=parser_apple).dropna()\n"
     ]
    },
    {
     "name": "stdout",
     "output_type": "stream",
     "text": [
      "Processing Participant 2665 109/162\n"
     ]
    },
    {
     "name": "stderr",
     "output_type": "stream",
     "text": [
      "C:\\Users\\ntindall\\AppData\\Local\\Temp\\ipykernel_520\\3695143538.py:7: FutureWarning: \n",
      "        Use pd.to_datetime instead.\n",
      "\n",
      "  apple_data = pd.read_csv(data_path, usecols=['Apple Time', 'Apple Second Fraction', 'Apple X', 'Apple Y', 'Apple Z', 'Apple Magnitude'], parse_dates=[[0,1]], date_parser=parser_apple).dropna()\n"
     ]
    },
    {
     "name": "stdout",
     "output_type": "stream",
     "text": [
      "Processing Participant 2666 110/162\n",
      "No Apple Data for 2666\n",
      "Processing Participant 2667 111/162\n",
      "No Apple Data for 2667\n",
      "Processing Participant 2668 112/162\n",
      "No Apple Data for 2668\n",
      "Processing Participant 2669 113/162\n",
      "No Apple Data for 2669\n",
      "Processing Participant 2670 114/162\n",
      "No Apple Data for 2670\n",
      "Processing Participant 2671 115/162\n"
     ]
    },
    {
     "name": "stderr",
     "output_type": "stream",
     "text": [
      "C:\\Users\\ntindall\\AppData\\Local\\Temp\\ipykernel_520\\3695143538.py:7: FutureWarning: \n",
      "        Use pd.to_datetime instead.\n",
      "\n",
      "  apple_data = pd.read_csv(data_path, usecols=['Apple Time', 'Apple Second Fraction', 'Apple X', 'Apple Y', 'Apple Z', 'Apple Magnitude'], parse_dates=[[0,1]], date_parser=parser_apple).dropna()\n"
     ]
    },
    {
     "name": "stdout",
     "output_type": "stream",
     "text": [
      "Processing Participant 2672 116/162\n",
      "No Apple Data for 2672\n",
      "Processing Participant 2673 117/162\n",
      "No Apple Data for 2673\n",
      "Processing Participant 2674 118/162\n",
      "No Apple Data for 2674\n",
      "Processing Participant 2675 119/162\n",
      "No Apple Data for 2675\n",
      "Processing Participant 2676 120/162\n"
     ]
    },
    {
     "name": "stderr",
     "output_type": "stream",
     "text": [
      "C:\\Users\\ntindall\\AppData\\Local\\Temp\\ipykernel_520\\3695143538.py:7: FutureWarning: \n",
      "        Use pd.to_datetime instead.\n",
      "\n",
      "  apple_data = pd.read_csv(data_path, usecols=['Apple Time', 'Apple Second Fraction', 'Apple X', 'Apple Y', 'Apple Z', 'Apple Magnitude'], parse_dates=[[0,1]], date_parser=parser_apple).dropna()\n"
     ]
    },
    {
     "name": "stdout",
     "output_type": "stream",
     "text": [
      "Processing Participant 2679 121/162\n"
     ]
    },
    {
     "name": "stderr",
     "output_type": "stream",
     "text": [
      "C:\\Users\\ntindall\\AppData\\Local\\Temp\\ipykernel_520\\3695143538.py:7: FutureWarning: \n",
      "        Use pd.to_datetime instead.\n",
      "\n",
      "  apple_data = pd.read_csv(data_path, usecols=['Apple Time', 'Apple Second Fraction', 'Apple X', 'Apple Y', 'Apple Z', 'Apple Magnitude'], parse_dates=[[0,1]], date_parser=parser_apple).dropna()\n"
     ]
    },
    {
     "name": "stdout",
     "output_type": "stream",
     "text": [
      "Processing Participant 2680 122/162\n",
      "No Apple Data for 2680\n",
      "Processing Participant 2681 123/162\n",
      "No Apple Data for 2681\n",
      "Processing Participant 2683 124/162\n",
      "No Apple Data for 2683\n",
      "Processing Participant 2684 125/162\n"
     ]
    },
    {
     "name": "stderr",
     "output_type": "stream",
     "text": [
      "C:\\Users\\ntindall\\AppData\\Local\\Temp\\ipykernel_520\\3695143538.py:7: FutureWarning: \n",
      "        Use pd.to_datetime instead.\n",
      "\n",
      "  apple_data = pd.read_csv(data_path, usecols=['Apple Time', 'Apple Second Fraction', 'Apple X', 'Apple Y', 'Apple Z', 'Apple Magnitude'], parse_dates=[[0,1]], date_parser=parser_apple).dropna()\n"
     ]
    },
    {
     "name": "stdout",
     "output_type": "stream",
     "text": [
      "Processing Participant 2685 126/162\n"
     ]
    },
    {
     "name": "stderr",
     "output_type": "stream",
     "text": [
      "C:\\Users\\ntindall\\AppData\\Local\\Temp\\ipykernel_520\\3695143538.py:7: FutureWarning: \n",
      "        Use pd.to_datetime instead.\n",
      "\n",
      "  apple_data = pd.read_csv(data_path, usecols=['Apple Time', 'Apple Second Fraction', 'Apple X', 'Apple Y', 'Apple Z', 'Apple Magnitude'], parse_dates=[[0,1]], date_parser=parser_apple).dropna()\n"
     ]
    },
    {
     "name": "stdout",
     "output_type": "stream",
     "text": [
      "Processing Participant 2686 127/162\n",
      "No Apple Data for 2686\n",
      "Processing Participant 2687 128/162\n",
      "No Apple Data for 2687\n",
      "Processing Participant 2688 129/162\n"
     ]
    },
    {
     "name": "stderr",
     "output_type": "stream",
     "text": [
      "C:\\Users\\ntindall\\AppData\\Local\\Temp\\ipykernel_520\\3695143538.py:7: FutureWarning: \n",
      "        Use pd.to_datetime instead.\n",
      "\n",
      "  apple_data = pd.read_csv(data_path, usecols=['Apple Time', 'Apple Second Fraction', 'Apple X', 'Apple Y', 'Apple Z', 'Apple Magnitude'], parse_dates=[[0,1]], date_parser=parser_apple).dropna()\n"
     ]
    },
    {
     "name": "stdout",
     "output_type": "stream",
     "text": [
      "Processing Participant 2689 130/162\n",
      "No Apple Data for 2689\n",
      "Processing Participant 2690 131/162\n",
      "No Apple Data for 2690\n",
      "Processing Participant 2691 132/162\n",
      "No Apple Data for 2691\n",
      "Processing Participant 2692 133/162\n"
     ]
    },
    {
     "name": "stderr",
     "output_type": "stream",
     "text": [
      "C:\\Users\\ntindall\\AppData\\Local\\Temp\\ipykernel_520\\3695143538.py:7: FutureWarning: \n",
      "        Use pd.to_datetime instead.\n",
      "\n",
      "  apple_data = pd.read_csv(data_path, usecols=['Apple Time', 'Apple Second Fraction', 'Apple X', 'Apple Y', 'Apple Z', 'Apple Magnitude'], parse_dates=[[0,1]], date_parser=parser_apple).dropna()\n"
     ]
    },
    {
     "name": "stdout",
     "output_type": "stream",
     "text": [
      "Processing Participant 2706 134/162\n"
     ]
    },
    {
     "name": "stderr",
     "output_type": "stream",
     "text": [
      "C:\\Users\\ntindall\\AppData\\Local\\Temp\\ipykernel_520\\3695143538.py:7: FutureWarning: \n",
      "        Use pd.to_datetime instead.\n",
      "\n",
      "  apple_data = pd.read_csv(data_path, usecols=['Apple Time', 'Apple Second Fraction', 'Apple X', 'Apple Y', 'Apple Z', 'Apple Magnitude'], parse_dates=[[0,1]], date_parser=parser_apple).dropna()\n"
     ]
    },
    {
     "name": "stdout",
     "output_type": "stream",
     "text": [
      "Processing Participant 2709 135/162\n",
      "No Apple Data for 2709\n",
      "Processing Participant 2710 136/162\n"
     ]
    },
    {
     "name": "stderr",
     "output_type": "stream",
     "text": [
      "C:\\Users\\ntindall\\AppData\\Local\\Temp\\ipykernel_520\\3695143538.py:7: FutureWarning: \n",
      "        Use pd.to_datetime instead.\n",
      "\n",
      "  apple_data = pd.read_csv(data_path, usecols=['Apple Time', 'Apple Second Fraction', 'Apple X', 'Apple Y', 'Apple Z', 'Apple Magnitude'], parse_dates=[[0,1]], date_parser=parser_apple).dropna()\n"
     ]
    },
    {
     "name": "stdout",
     "output_type": "stream",
     "text": [
      "Processing Participant 2711 137/162\n"
     ]
    },
    {
     "name": "stderr",
     "output_type": "stream",
     "text": [
      "C:\\Users\\ntindall\\AppData\\Local\\Temp\\ipykernel_520\\3695143538.py:7: FutureWarning: \n",
      "        Use pd.to_datetime instead.\n",
      "\n",
      "  apple_data = pd.read_csv(data_path, usecols=['Apple Time', 'Apple Second Fraction', 'Apple X', 'Apple Y', 'Apple Z', 'Apple Magnitude'], parse_dates=[[0,1]], date_parser=parser_apple).dropna()\n"
     ]
    },
    {
     "name": "stdout",
     "output_type": "stream",
     "text": [
      "Processing Participant 2712 138/162\n",
      "No Apple Data for 2712\n",
      "Processing Participant 2753 139/162\n"
     ]
    },
    {
     "name": "stderr",
     "output_type": "stream",
     "text": [
      "C:\\Users\\ntindall\\AppData\\Local\\Temp\\ipykernel_520\\3695143538.py:7: FutureWarning: \n",
      "        Use pd.to_datetime instead.\n",
      "\n",
      "  apple_data = pd.read_csv(data_path, usecols=['Apple Time', 'Apple Second Fraction', 'Apple X', 'Apple Y', 'Apple Z', 'Apple Magnitude'], parse_dates=[[0,1]], date_parser=parser_apple).dropna()\n"
     ]
    },
    {
     "name": "stdout",
     "output_type": "stream",
     "text": [
      "Processing Participant 2774 140/162\n"
     ]
    },
    {
     "name": "stderr",
     "output_type": "stream",
     "text": [
      "C:\\Users\\ntindall\\AppData\\Local\\Temp\\ipykernel_520\\3695143538.py:7: FutureWarning: \n",
      "        Use pd.to_datetime instead.\n",
      "\n",
      "  apple_data = pd.read_csv(data_path, usecols=['Apple Time', 'Apple Second Fraction', 'Apple X', 'Apple Y', 'Apple Z', 'Apple Magnitude'], parse_dates=[[0,1]], date_parser=parser_apple).dropna()\n"
     ]
    },
    {
     "name": "stdout",
     "output_type": "stream",
     "text": [
      "Processing Participant 2775 141/162\n"
     ]
    },
    {
     "name": "stderr",
     "output_type": "stream",
     "text": [
      "C:\\Users\\ntindall\\AppData\\Local\\Temp\\ipykernel_520\\3695143538.py:7: FutureWarning: \n",
      "        Use pd.to_datetime instead.\n",
      "\n",
      "  apple_data = pd.read_csv(data_path, usecols=['Apple Time', 'Apple Second Fraction', 'Apple X', 'Apple Y', 'Apple Z', 'Apple Magnitude'], parse_dates=[[0,1]], date_parser=parser_apple).dropna()\n"
     ]
    },
    {
     "name": "stdout",
     "output_type": "stream",
     "text": [
      "Processing Participant 2776 142/162\n"
     ]
    },
    {
     "name": "stderr",
     "output_type": "stream",
     "text": [
      "C:\\Users\\ntindall\\AppData\\Local\\Temp\\ipykernel_520\\3695143538.py:7: FutureWarning: \n",
      "        Use pd.to_datetime instead.\n",
      "\n",
      "  apple_data = pd.read_csv(data_path, usecols=['Apple Time', 'Apple Second Fraction', 'Apple X', 'Apple Y', 'Apple Z', 'Apple Magnitude'], parse_dates=[[0,1]], date_parser=parser_apple).dropna()\n"
     ]
    },
    {
     "name": "stdout",
     "output_type": "stream",
     "text": [
      "Processing Participant 2778 143/162\n"
     ]
    },
    {
     "name": "stderr",
     "output_type": "stream",
     "text": [
      "C:\\Users\\ntindall\\AppData\\Local\\Temp\\ipykernel_520\\3695143538.py:7: FutureWarning: \n",
      "        Use pd.to_datetime instead.\n",
      "\n",
      "  apple_data = pd.read_csv(data_path, usecols=['Apple Time', 'Apple Second Fraction', 'Apple X', 'Apple Y', 'Apple Z', 'Apple Magnitude'], parse_dates=[[0,1]], date_parser=parser_apple).dropna()\n"
     ]
    },
    {
     "name": "stdout",
     "output_type": "stream",
     "text": [
      "Processing Participant 2779 144/162\n"
     ]
    },
    {
     "name": "stderr",
     "output_type": "stream",
     "text": [
      "C:\\Users\\ntindall\\AppData\\Local\\Temp\\ipykernel_520\\3695143538.py:7: FutureWarning: \n",
      "        Use pd.to_datetime instead.\n",
      "\n",
      "  apple_data = pd.read_csv(data_path, usecols=['Apple Time', 'Apple Second Fraction', 'Apple X', 'Apple Y', 'Apple Z', 'Apple Magnitude'], parse_dates=[[0,1]], date_parser=parser_apple).dropna()\n"
     ]
    },
    {
     "name": "stdout",
     "output_type": "stream",
     "text": [
      "Processing Participant 2780 145/162\n",
      "No Apple Data for 2780\n",
      "Processing Participant 2781 146/162\n",
      "No Apple Data for 2781\n",
      "Processing Participant 2782 147/162\n"
     ]
    },
    {
     "name": "stderr",
     "output_type": "stream",
     "text": [
      "C:\\Users\\ntindall\\AppData\\Local\\Temp\\ipykernel_520\\3695143538.py:7: FutureWarning: \n",
      "        Use pd.to_datetime instead.\n",
      "\n",
      "  apple_data = pd.read_csv(data_path, usecols=['Apple Time', 'Apple Second Fraction', 'Apple X', 'Apple Y', 'Apple Z', 'Apple Magnitude'], parse_dates=[[0,1]], date_parser=parser_apple).dropna()\n"
     ]
    },
    {
     "name": "stdout",
     "output_type": "stream",
     "text": [
      "Processing Participant 2783 148/162\n"
     ]
    },
    {
     "name": "stderr",
     "output_type": "stream",
     "text": [
      "C:\\Users\\ntindall\\AppData\\Local\\Temp\\ipykernel_520\\3695143538.py:7: FutureWarning: \n",
      "        Use pd.to_datetime instead.\n",
      "\n",
      "  apple_data = pd.read_csv(data_path, usecols=['Apple Time', 'Apple Second Fraction', 'Apple X', 'Apple Y', 'Apple Z', 'Apple Magnitude'], parse_dates=[[0,1]], date_parser=parser_apple).dropna()\n"
     ]
    },
    {
     "name": "stdout",
     "output_type": "stream",
     "text": [
      "Processing Participant 2788 149/162\n",
      "No Apple Data for 2788\n",
      "Processing Participant 2790 150/162\n"
     ]
    },
    {
     "name": "stderr",
     "output_type": "stream",
     "text": [
      "C:\\Users\\ntindall\\AppData\\Local\\Temp\\ipykernel_520\\3695143538.py:7: FutureWarning: \n",
      "        Use pd.to_datetime instead.\n",
      "\n",
      "  apple_data = pd.read_csv(data_path, usecols=['Apple Time', 'Apple Second Fraction', 'Apple X', 'Apple Y', 'Apple Z', 'Apple Magnitude'], parse_dates=[[0,1]], date_parser=parser_apple).dropna()\n"
     ]
    },
    {
     "name": "stdout",
     "output_type": "stream",
     "text": [
      "Processing Participant 2792 151/162\n",
      "No Apple Data for 2792\n",
      "Processing Participant 2793 152/162\n",
      "No Apple Data for 2793\n",
      "Processing Participant 2796 153/162\n"
     ]
    },
    {
     "name": "stderr",
     "output_type": "stream",
     "text": [
      "C:\\Users\\ntindall\\AppData\\Local\\Temp\\ipykernel_520\\3695143538.py:7: FutureWarning: \n",
      "        Use pd.to_datetime instead.\n",
      "\n",
      "  apple_data = pd.read_csv(data_path, usecols=['Apple Time', 'Apple Second Fraction', 'Apple X', 'Apple Y', 'Apple Z', 'Apple Magnitude'], parse_dates=[[0,1]], date_parser=parser_apple).dropna()\n"
     ]
    },
    {
     "name": "stdout",
     "output_type": "stream",
     "text": [
      "Processing Participant 2797 154/162\n"
     ]
    },
    {
     "name": "stderr",
     "output_type": "stream",
     "text": [
      "C:\\Users\\ntindall\\AppData\\Local\\Temp\\ipykernel_520\\3695143538.py:7: FutureWarning: \n",
      "        Use pd.to_datetime instead.\n",
      "\n",
      "  apple_data = pd.read_csv(data_path, usecols=['Apple Time', 'Apple Second Fraction', 'Apple X', 'Apple Y', 'Apple Z', 'Apple Magnitude'], parse_dates=[[0,1]], date_parser=parser_apple).dropna()\n"
     ]
    },
    {
     "name": "stdout",
     "output_type": "stream",
     "text": [
      "Processing Participant 2798 155/162\n"
     ]
    },
    {
     "name": "stderr",
     "output_type": "stream",
     "text": [
      "C:\\Users\\ntindall\\AppData\\Local\\Temp\\ipykernel_520\\3695143538.py:7: FutureWarning: \n",
      "        Use pd.to_datetime instead.\n",
      "\n",
      "  apple_data = pd.read_csv(data_path, usecols=['Apple Time', 'Apple Second Fraction', 'Apple X', 'Apple Y', 'Apple Z', 'Apple Magnitude'], parse_dates=[[0,1]], date_parser=parser_apple).dropna()\n"
     ]
    },
    {
     "name": "stdout",
     "output_type": "stream",
     "text": [
      "Processing Participant 2812 156/162\n"
     ]
    },
    {
     "name": "stderr",
     "output_type": "stream",
     "text": [
      "C:\\Users\\ntindall\\AppData\\Local\\Temp\\ipykernel_520\\3695143538.py:7: FutureWarning: \n",
      "        Use pd.to_datetime instead.\n",
      "\n",
      "  apple_data = pd.read_csv(data_path, usecols=['Apple Time', 'Apple Second Fraction', 'Apple X', 'Apple Y', 'Apple Z', 'Apple Magnitude'], parse_dates=[[0,1]], date_parser=parser_apple).dropna()\n"
     ]
    },
    {
     "name": "stdout",
     "output_type": "stream",
     "text": [
      "Processing Participant 2813 157/162\n"
     ]
    },
    {
     "name": "stderr",
     "output_type": "stream",
     "text": [
      "C:\\Users\\ntindall\\AppData\\Local\\Temp\\ipykernel_520\\3695143538.py:7: FutureWarning: \n",
      "        Use pd.to_datetime instead.\n",
      "\n",
      "  apple_data = pd.read_csv(data_path, usecols=['Apple Time', 'Apple Second Fraction', 'Apple X', 'Apple Y', 'Apple Z', 'Apple Magnitude'], parse_dates=[[0,1]], date_parser=parser_apple).dropna()\n"
     ]
    },
    {
     "name": "stdout",
     "output_type": "stream",
     "text": [
      "Processing Participant 2814 158/162\n"
     ]
    },
    {
     "name": "stderr",
     "output_type": "stream",
     "text": [
      "C:\\Users\\ntindall\\AppData\\Local\\Temp\\ipykernel_520\\3695143538.py:7: FutureWarning: \n",
      "        Use pd.to_datetime instead.\n",
      "\n",
      "  apple_data = pd.read_csv(data_path, usecols=['Apple Time', 'Apple Second Fraction', 'Apple X', 'Apple Y', 'Apple Z', 'Apple Magnitude'], parse_dates=[[0,1]], date_parser=parser_apple).dropna()\n"
     ]
    },
    {
     "name": "stdout",
     "output_type": "stream",
     "text": [
      "Processing Participant 2815 159/162\n"
     ]
    },
    {
     "name": "stderr",
     "output_type": "stream",
     "text": [
      "C:\\Users\\ntindall\\AppData\\Local\\Temp\\ipykernel_520\\3695143538.py:7: FutureWarning: \n",
      "        Use pd.to_datetime instead.\n",
      "\n",
      "  apple_data = pd.read_csv(data_path, usecols=['Apple Time', 'Apple Second Fraction', 'Apple X', 'Apple Y', 'Apple Z', 'Apple Magnitude'], parse_dates=[[0,1]], date_parser=parser_apple).dropna()\n"
     ]
    },
    {
     "name": "stdout",
     "output_type": "stream",
     "text": [
      "Processing Participant 2820 160/162\n"
     ]
    },
    {
     "name": "stderr",
     "output_type": "stream",
     "text": [
      "C:\\Users\\ntindall\\AppData\\Local\\Temp\\ipykernel_520\\3695143538.py:7: FutureWarning: \n",
      "        Use pd.to_datetime instead.\n",
      "\n",
      "  apple_data = pd.read_csv(data_path, usecols=['Apple Time', 'Apple Second Fraction', 'Apple X', 'Apple Y', 'Apple Z', 'Apple Magnitude'], parse_dates=[[0,1]], date_parser=parser_apple).dropna()\n"
     ]
    },
    {
     "name": "stdout",
     "output_type": "stream",
     "text": [
      "Processing Participant 2821 161/162\n"
     ]
    },
    {
     "name": "stderr",
     "output_type": "stream",
     "text": [
      "C:\\Users\\ntindall\\AppData\\Local\\Temp\\ipykernel_520\\3695143538.py:7: FutureWarning: \n",
      "        Use pd.to_datetime instead.\n",
      "\n",
      "  apple_data = pd.read_csv(data_path, usecols=['Apple Time', 'Apple Second Fraction', 'Apple X', 'Apple Y', 'Apple Z', 'Apple Magnitude'], parse_dates=[[0,1]], date_parser=parser_apple).dropna()\n"
     ]
    },
    {
     "name": "stdout",
     "output_type": "stream",
     "text": [
      "Processing Participant 2824 162/162\n",
      "No Apple Data for 2824\n"
     ]
    }
   ],
   "source": [
    "pa_dir = \"V:/ACOI/R01 - W4K/3_PA protocol/1_Participants/\"\n",
    "out_dir = \"C:/Users/ntindall/Wearables/Physical Activity/Rahul_Accelerometer_Metrics/Accel_Metrics/\"\n",
    "\n",
    "\n",
    "participant_paths = glob(pa_dir + \"[0-9][0-9][0-9][0-9]/*aligned.csv\")\n",
    "total_participant = len(participant_paths)\n",
    "curr_participant = 1\n",
    "\n",
    "for participant in participant_paths:\n",
    "    participant_id = participant[len(pa_dir):len(pa_dir)+4]\n",
    "    print(f\"Processing Participant {participant_id} {curr_participant}/{total_participant}\")\n",
    "    # Read in data\n",
    "    apple_accel, start = read_apple(participant)\n",
    "    if apple_accel is not None:\n",
    "        # Define output path for metrics\n",
    "        out_path = out_dir + participant_id + \"_accel_metrics.csv\"\n",
    "        # Calculate Metrics and write to file\n",
    "        accel_metrics(apple_accel, start, out_path)\n",
    "\n",
    "    else:\n",
    "        print(f\"No Apple Data for {participant_id}\")\n",
    "    \n",
    "    curr_participant += 1\n",
    "    \n",
    "    \n"
   ]
  },
  {
   "cell_type": "markdown",
   "id": "3ceec761",
   "metadata": {},
   "source": [
    "## RUN BELOW TO CALCULATE GARMIN METRICS"
   ]
  },
  {
   "cell_type": "code",
   "execution_count": 22,
   "id": "7c16c0e8",
   "metadata": {
    "collapsed": true
   },
   "outputs": [
    {
     "name": "stdout",
     "output_type": "stream",
     "text": [
      "Processing Participant 0118 1/184\n",
      "(105500, 5)\n",
      "Processing Participant 0231 2/184\n",
      "No Garmin Data for 0231\n",
      "Processing Participant 0444 3/184\n",
      "(100900, 5)\n",
      "Processing Participant 0601 4/184\n",
      "(107875, 5)\n",
      "Processing Participant 0618 5/184\n",
      "No Garmin Data for 0618\n",
      "Processing Participant 0632 6/184\n",
      "No Garmin Data for 0632\n",
      "Processing Participant 0695 7/184\n",
      "No Garmin Data for 0695\n",
      "Processing Participant 0819 8/184\n",
      "(113675, 5)\n",
      "Processing Participant 0967 9/184\n",
      "(92276, 5)\n",
      "Processing Participant 1333 10/184\n",
      "(99625, 5)\n",
      "Processing Participant 1760 11/184\n",
      "(101775, 5)\n",
      "Processing Participant 1772 12/184\n",
      "No Garmin Data for 1772\n",
      "Processing Participant 1779 13/184\n",
      "(97400, 5)\n",
      "Processing Participant 1799 14/184\n",
      "(101634, 5)\n",
      "Processing Participant 1854 15/184\n",
      "(93050, 5)\n",
      "Processing Participant 1974 16/184\n",
      "(105525, 5)\n",
      "Processing Participant 1991 17/184\n",
      "(176575, 5)\n",
      "Processing Participant 2007 18/184\n",
      "(94875, 5)\n",
      "Processing Participant 2031 19/184\n",
      "(108300, 5)\n",
      "Processing Participant 2069 20/184\n",
      "(113925, 5)\n",
      "Processing Participant 2113 21/184\n",
      "(78050, 5)\n",
      "Processing Participant 2186 22/184\n",
      "(105950, 5)\n",
      "Processing Participant 2187 23/184\n",
      "(114625, 5)\n",
      "Processing Participant 2271 24/184\n",
      "(99350, 5)\n",
      "Processing Participant 2272 25/184\n",
      "(98575, 5)\n",
      "Processing Participant 2321 26/184\n",
      "No Garmin Data for 2321\n",
      "Processing Participant 2355 27/184\n",
      "No Garmin Data for 2355\n",
      "Processing Participant 2433 28/184\n",
      "No Garmin Data for 2433\n",
      "Processing Participant 2453 29/184\n",
      "(94800, 5)\n",
      "Processing Participant 2454 30/184\n",
      "(96650, 5)\n",
      "Processing Participant 2455 31/184\n",
      "(101275, 5)\n",
      "Processing Participant 2456 32/184\n",
      "(96025, 5)\n",
      "Processing Participant 2457 33/184\n",
      "(106625, 5)\n",
      "Processing Participant 2458 34/184\n",
      "(93750, 5)\n",
      "Processing Participant 2470 35/184\n",
      "(99150, 5)\n",
      "Processing Participant 2471 36/184\n",
      "(100300, 5)\n",
      "Processing Participant 2473 37/184\n",
      "(105625, 5)\n",
      "Processing Participant 2474 38/184\n",
      "(93050, 5)\n",
      "Processing Participant 2475 39/184\n",
      "No Garmin Data for 2475\n",
      "Processing Participant 2476 40/184\n",
      "(93925, 5)\n",
      "Processing Participant 2479 41/184\n",
      "(89325, 5)\n",
      "Processing Participant 2480 42/184\n",
      "(90275, 5)\n",
      "Processing Participant 2495 43/184\n",
      "(91750, 5)\n",
      "Processing Participant 2496 44/184\n",
      "(114050, 5)\n",
      "Processing Participant 2497 45/184\n",
      "(100400, 5)\n",
      "Processing Participant 2498 46/184\n",
      "(93975, 5)\n",
      "Processing Participant 2499 47/184\n",
      "(88725, 5)\n",
      "Processing Participant 2500 48/184\n",
      "(93800, 5)\n",
      "Processing Participant 2501 49/184\n",
      "(93575, 5)\n",
      "Processing Participant 2502 50/184\n",
      "(102675, 5)\n",
      "Processing Participant 2503 51/184\n",
      "(93050, 5)\n",
      "Processing Participant 2504 52/184\n",
      "(96450, 5)\n",
      "Processing Participant 2505 53/184\n",
      "(108700, 5)\n",
      "Processing Participant 2506 54/184\n",
      "(96250, 5)\n",
      "Processing Participant 2507 55/184\n",
      "(111150, 5)\n",
      "Processing Participant 2508 56/184\n",
      "(91700, 5)\n",
      "Processing Participant 2517 57/184\n",
      "(100475, 5)\n",
      "Processing Participant 2525 58/184\n",
      "(111800, 5)\n",
      "Processing Participant 2531 59/184\n",
      "(94775, 5)\n",
      "Processing Participant 2532 60/184\n",
      "No Garmin Data for 2532\n",
      "Processing Participant 2533 61/184\n",
      "(90575, 5)\n",
      "Processing Participant 2540 62/184\n",
      "(89500, 5)\n",
      "Processing Participant 2541 63/184\n",
      "(101775, 5)\n",
      "Processing Participant 2542 64/184\n",
      "(108850, 5)\n",
      "Processing Participant 2543 65/184\n",
      "(101875, 5)\n",
      "Processing Participant 2544 66/184\n",
      "No Garmin Data for 2544\n",
      "Processing Participant 2545 67/184\n",
      "(114550, 5)\n",
      "Processing Participant 2546 68/184\n",
      "(55700, 5)\n",
      "Processing Participant 2557 69/184\n",
      "(101200, 5)\n",
      "Processing Participant 2558 70/184\n",
      "(103800, 5)\n",
      "Processing Participant 2559 71/184\n",
      "(106525, 5)\n",
      "Processing Participant 2560 72/184\n",
      "(99650, 5)\n",
      "Processing Participant 2566 73/184\n",
      "(95150, 5)\n",
      "Processing Participant 2576 74/184\n",
      "(94875, 5)\n",
      "Processing Participant 2584 75/184\n",
      "(94875, 5)\n",
      "Processing Participant 2588 76/184\n",
      "(108250, 5)\n",
      "Processing Participant 2589 77/184\n",
      "(107925, 5)\n",
      "Processing Participant 2596 78/184\n",
      "(97600, 5)\n",
      "Processing Participant 2601 79/184\n",
      "(116075, 5)\n",
      "Processing Participant 2604 80/184\n",
      "(100725, 5)\n",
      "Processing Participant 2605 81/184\n",
      "(102425, 5)\n",
      "Processing Participant 2608 82/184\n",
      "(96675, 5)\n",
      "Processing Participant 2611 83/184\n",
      "(118825, 5)\n",
      "Processing Participant 2612 84/184\n",
      "(110025, 5)\n",
      "Processing Participant 2613 85/184\n",
      "(112150, 5)\n",
      "Processing Participant 2628 86/184\n",
      "(107725, 5)\n",
      "Processing Participant 2629 87/184\n",
      "(104075, 5)\n",
      "Processing Participant 2630 88/184\n",
      "(40475, 5)\n",
      "Processing Participant 2631 89/184\n",
      "(109125, 5)\n",
      "Processing Participant 2635 90/184\n",
      "(106475, 5)\n",
      "Processing Participant 2637 91/184\n",
      "(94950, 5)\n",
      "Processing Participant 2639 92/184\n",
      "(124750, 5)\n",
      "Processing Participant 2640 93/184\n",
      "(113800, 5)\n",
      "Processing Participant 2641 94/184\n",
      "(96625, 5)\n",
      "Processing Participant 2642 95/184\n",
      "(89225, 5)\n",
      "Processing Participant 2643 96/184\n",
      "(103025, 5)\n",
      "Processing Participant 2644 97/184\n",
      "(104125, 5)\n",
      "Processing Participant 2645 98/184\n",
      "(108400, 5)\n",
      "Processing Participant 2646 99/184\n",
      "(113275, 5)\n",
      "Processing Participant 2647 100/184\n",
      "(108725, 5)\n",
      "Processing Participant 2648 101/184\n",
      "(102350, 5)\n",
      "Processing Participant 2649 102/184\n",
      "(102400, 5)\n",
      "Processing Participant 2650 103/184\n",
      "(116025, 5)\n",
      "Processing Participant 2651 104/184\n",
      "(108800, 5)\n",
      "Processing Participant 2653 105/184\n",
      "(88775, 5)\n",
      "Processing Participant 2657 106/184\n",
      "No Garmin Data for 2657\n",
      "Processing Participant 2661 107/184\n",
      "(85950, 5)\n",
      "Processing Participant 2662 108/184\n",
      "No Garmin Data for 2662\n",
      "Processing Participant 2663 109/184\n",
      "No Garmin Data for 2663\n",
      "Processing Participant 2664 110/184\n",
      "No Garmin Data for 2664\n",
      "Processing Participant 2665 111/184\n",
      "No Garmin Data for 2665\n",
      "Processing Participant 2666 112/184\n",
      "(95100, 5)\n",
      "Processing Participant 2667 113/184\n",
      "(95125, 5)\n",
      "Processing Participant 2668 114/184\n",
      "(105500, 5)\n",
      "Processing Participant 2669 115/184\n",
      "(105500, 5)\n",
      "Processing Participant 2670 116/184\n",
      "(95750, 5)\n",
      "Processing Participant 2671 117/184\n",
      "No Garmin Data for 2671\n",
      "Processing Participant 2672 118/184\n",
      "(115500, 5)\n",
      "Processing Participant 2673 119/184\n",
      "(106200, 5)\n",
      "Processing Participant 2674 120/184\n",
      "(106200, 5)\n",
      "Processing Participant 2675 121/184\n",
      "(105625, 5)\n",
      "Processing Participant 2676 122/184\n",
      "No Garmin Data for 2676\n",
      "Processing Participant 2679 123/184\n",
      "No Garmin Data for 2679\n",
      "Processing Participant 2680 124/184\n",
      "(93550, 5)\n",
      "Processing Participant 2681 125/184\n",
      "(87150, 5)\n",
      "Processing Participant 2683 126/184\n",
      "(94150, 5)\n",
      "Processing Participant 2684 127/184\n",
      "(112375, 5)\n",
      "Processing Participant 2685 128/184\n",
      "No Garmin Data for 2685\n",
      "Processing Participant 2686 129/184\n",
      "(119450, 5)\n",
      "Processing Participant 2687 130/184\n",
      "(126625, 5)\n",
      "Processing Participant 2688 131/184\n",
      "No Garmin Data for 2688\n",
      "Processing Participant 2689 132/184\n",
      "(97450, 5)\n",
      "Processing Participant 2690 133/184\n",
      "(100400, 5)\n",
      "Processing Participant 2691 134/184\n",
      "(113475, 5)\n",
      "Processing Participant 2692 135/184\n",
      "No Garmin Data for 2692\n",
      "Processing Participant 2706 136/184\n",
      "No Garmin Data for 2706\n",
      "Processing Participant 2709 137/184\n",
      "(93250, 5)\n",
      "Processing Participant 2710 138/184\n",
      "No Garmin Data for 2710\n",
      "Processing Participant 2711 139/184\n",
      "No Garmin Data for 2711\n",
      "Processing Participant 2712 140/184\n",
      "(119525, 5)\n",
      "Processing Participant 2753 141/184\n",
      "No Garmin Data for 2753\n",
      "Processing Participant 2774 142/184\n",
      "No Garmin Data for 2774\n",
      "Processing Participant 2775 143/184\n",
      "No Garmin Data for 2775\n",
      "Processing Participant 2776 144/184\n",
      "No Garmin Data for 2776\n",
      "Processing Participant 2778 145/184\n",
      "No Garmin Data for 2778\n",
      "Processing Participant 2779 146/184\n",
      "No Garmin Data for 2779\n",
      "Processing Participant 2780 147/184\n",
      "(106075, 5)\n",
      "Processing Participant 2781 148/184\n",
      "(106325, 5)\n",
      "Processing Participant 2782 149/184\n",
      "No Garmin Data for 2782\n",
      "Processing Participant 2783 150/184\n",
      "No Garmin Data for 2783\n",
      "Processing Participant 2788 151/184\n",
      "(91575, 5)\n",
      "Processing Participant 2789 152/184\n",
      "(91575, 5)\n",
      "Processing Participant 2790 153/184\n",
      "No Garmin Data for 2790\n",
      "Processing Participant 2792 154/184\n",
      "(92200, 5)\n",
      "Processing Participant 2793 155/184\n",
      "(92200, 5)\n",
      "Processing Participant 2794 156/184\n",
      "No Garmin Data for 2794\n",
      "Processing Participant 2795 157/184\n",
      "No Garmin Data for 2795\n",
      "Processing Participant 2796 158/184\n",
      "No Garmin Data for 2796\n",
      "Processing Participant 2797 159/184\n",
      "No Garmin Data for 2797\n",
      "Processing Participant 2798 160/184\n",
      "No Garmin Data for 2798\n",
      "Processing Participant 2801 161/184\n",
      "No Garmin Data for 2801\n",
      "Processing Participant 2812 162/184\n",
      "No Garmin Data for 2812\n",
      "Processing Participant 2813 163/184\n",
      "No Garmin Data for 2813\n",
      "Processing Participant 2814 164/184\n",
      "No Garmin Data for 2814\n",
      "Processing Participant 2815 165/184\n"
     ]
    },
    {
     "name": "stdout",
     "output_type": "stream",
     "text": [
      "No Garmin Data for 2815\n",
      "Processing Participant 2816 166/184\n",
      "No Garmin Data for 2816\n",
      "Processing Participant 2817 167/184\n",
      "(93575, 5)\n",
      "Processing Participant 2818 168/184\n",
      "(105775, 5)\n",
      "Processing Participant 2819 169/184\n",
      "No Garmin Data for 2819\n",
      "Processing Participant 2820 170/184\n",
      "No Garmin Data for 2820\n",
      "Processing Participant 2821 171/184\n",
      "No Garmin Data for 2821\n",
      "Processing Participant 2822 172/184\n",
      "No Garmin Data for 2822\n",
      "Processing Participant 2823 173/184\n",
      "No Garmin Data for 2823\n",
      "Processing Participant 2824 174/184\n",
      "(117250, 5)\n",
      "Processing Participant 2987 175/184\n",
      "(95450, 5)\n",
      "Processing Participant 2988 176/184\n",
      "No Garmin Data for 2988\n",
      "Processing Participant 2989 177/184\n",
      "No Garmin Data for 2989\n",
      "Processing Participant 2990 178/184\n",
      "No Garmin Data for 2990\n",
      "Processing Participant 2991 179/184\n",
      "(99625, 5)\n",
      "Processing Participant 2993 180/184\n",
      "No Garmin Data for 2993\n",
      "Processing Participant 2995 181/184\n",
      "No Garmin Data for 2995\n",
      "Processing Participant 2999 182/184\n",
      "No Garmin Data for 2999\n",
      "Processing Participant 3057 183/184\n",
      "No Garmin Data for 3057\n",
      "Processing Participant 3058 184/184\n",
      "No Garmin Data for 3058\n"
     ]
    }
   ],
   "source": [
    "pa_dir = \"V:/ACOI/R01 - W4K/3_PA protocol/1_Participants/\"\n",
    "out_dir = \"C:/Users/ntindall/Wearables/Physical Activity/Rahul_Accelerometer_Metrics/Garmin_Metrics/Accel_Metrics/\"\n",
    "\n",
    "participant_paths = glob(pa_dir + \"[0-9][0-9][0-9][0-9]/*aligned.csv\")\n",
    "total_participant = len(participant_paths)\n",
    "curr_participant = 1\n",
    "\n",
    "for participant in participant_paths:\n",
    "    participant_id = participant[len(pa_dir):len(pa_dir)+4]\n",
    "    print(f\"Processing Participant {participant_id} {curr_participant}/{total_participant}\")\n",
    "    # Read in data\n",
    "    garmin_accel, start = read_garmin(participant)\n",
    "    if garmin_accel is not None:\n",
    "        # Define output path for metrics\n",
    "        out_path = out_dir + participant_id + \"_accel_metrics.csv\"\n",
    "        # Calculate Metrics and write to file\n",
    "        print(garmin_accel.shape)\n",
    "        accel_metrics(garmin_accel, start, out_path)\n",
    "\n",
    "    else:\n",
    "        print(f\"No Garmin Data for {participant_id}\")\n",
    "    \n",
    "    curr_participant += 1"
   ]
  },
  {
   "cell_type": "markdown",
   "id": "ea430f10",
   "metadata": {},
   "source": [
    "## RUN BELOW TO CALCULATE FITBIT METRICS"
   ]
  },
  {
   "cell_type": "code",
   "execution_count": 11,
   "id": "26dcd9fb",
   "metadata": {
    "scrolled": true
   },
   "outputs": [
    {
     "name": "stdout",
     "output_type": "stream",
     "text": [
      "Processing Participant 0118 1/184\n",
      "No Fitbit Data for 0118\n",
      "Processing Participant 0231 2/184\n",
      "(187789, 5)\n",
      "Processing Participant 0444 3/184\n",
      "No Fitbit Data for 0444\n",
      "Processing Participant 0601 4/184\n",
      "No Fitbit Data for 0601\n",
      "Processing Participant 0618 5/184\n",
      "(182548, 5)\n",
      "Processing Participant 0632 6/184\n",
      "(195933, 5)\n",
      "Processing Participant 0695 7/184\n",
      "(177747, 5)\n",
      "Processing Participant 0819 8/184\n",
      "No Fitbit Data for 0819\n",
      "Processing Participant 0967 9/184\n",
      "No Fitbit Data for 0967\n",
      "Processing Participant 1333 10/184\n",
      "(199402, 5)\n",
      "Processing Participant 1760 11/184\n",
      "(202971, 5)\n",
      "Processing Participant 1772 12/184\n",
      "(217207, 5)\n",
      "Processing Participant 1779 13/184\n",
      "No Fitbit Data for 1779\n",
      "Processing Participant 1799 14/184\n",
      "(191610, 5)\n",
      "Processing Participant 1854 15/184\n",
      "No Fitbit Data for 1854\n",
      "Processing Participant 1974 16/184\n",
      "No Fitbit Data for 1974\n",
      "Processing Participant 1991 17/184\n",
      "No Fitbit Data for 1991\n",
      "Processing Participant 2007 18/184\n",
      "No Fitbit Data for 2007\n",
      "Processing Participant 2031 19/184\n",
      "(211820, 5)\n",
      "Processing Participant 2069 20/184\n",
      "No Fitbit Data for 2069\n",
      "Processing Participant 2113 21/184\n",
      "No Fitbit Data for 2113\n",
      "Processing Participant 2186 22/184\n",
      "No Fitbit Data for 2186\n",
      "Processing Participant 2187 23/184\n",
      "No Fitbit Data for 2187\n",
      "Processing Participant 2271 24/184\n",
      "No Fitbit Data for 2271\n",
      "Processing Participant 2272 25/184\n",
      "No Fitbit Data for 2272\n",
      "Processing Participant 2321 26/184\n",
      "(209672, 5)\n",
      "Processing Participant 2355 27/184\n",
      "No Fitbit Data for 2355\n",
      "Processing Participant 2433 28/184\n",
      "(192172, 5)\n",
      "Processing Participant 2453 29/184\n",
      "No Fitbit Data for 2453\n",
      "Processing Participant 2454 30/184\n",
      "No Fitbit Data for 2454\n",
      "Processing Participant 2455 31/184\n",
      "No Fitbit Data for 2455\n",
      "Processing Participant 2456 32/184\n",
      "No Fitbit Data for 2456\n",
      "Processing Participant 2457 33/184\n",
      "No Fitbit Data for 2457\n",
      "Processing Participant 2458 34/184\n",
      "No Fitbit Data for 2458\n",
      "Processing Participant 2470 35/184\n",
      "No Fitbit Data for 2470\n",
      "Processing Participant 2471 36/184\n",
      "No Fitbit Data for 2471\n",
      "Processing Participant 2473 37/184\n",
      "No Fitbit Data for 2473\n",
      "Processing Participant 2474 38/184\n",
      "No Fitbit Data for 2474\n",
      "Processing Participant 2475 39/184\n",
      "No Fitbit Data for 2475\n",
      "Processing Participant 2476 40/184\n",
      "No Fitbit Data for 2476\n",
      "Processing Participant 2479 41/184\n",
      "No Fitbit Data for 2479\n",
      "Processing Participant 2480 42/184\n",
      "No Fitbit Data for 2480\n",
      "Processing Participant 2495 43/184\n",
      "No Fitbit Data for 2495\n",
      "Processing Participant 2496 44/184\n",
      "No Fitbit Data for 2496\n",
      "Processing Participant 2497 45/184\n",
      "No Fitbit Data for 2497\n",
      "Processing Participant 2498 46/184\n",
      "No Fitbit Data for 2498\n",
      "Processing Participant 2499 47/184\n",
      "No Fitbit Data for 2499\n",
      "Processing Participant 2500 48/184\n",
      "No Fitbit Data for 2500\n",
      "Processing Participant 2501 49/184\n",
      "No Fitbit Data for 2501\n",
      "Processing Participant 2502 50/184\n",
      "No Fitbit Data for 2502\n",
      "Processing Participant 2503 51/184\n",
      "No Fitbit Data for 2503\n",
      "Processing Participant 2504 52/184\n",
      "No Fitbit Data for 2504\n",
      "Processing Participant 2505 53/184\n",
      "No Fitbit Data for 2505\n",
      "Processing Participant 2506 54/184\n",
      "No Fitbit Data for 2506\n",
      "Processing Participant 2507 55/184\n",
      "No Fitbit Data for 2507\n",
      "Processing Participant 2508 56/184\n",
      "No Fitbit Data for 2508\n",
      "Processing Participant 2517 57/184\n",
      "No Fitbit Data for 2517\n",
      "Processing Participant 2525 58/184\n",
      "No Fitbit Data for 2525\n",
      "Processing Participant 2531 59/184\n",
      "No Fitbit Data for 2531\n",
      "Processing Participant 2532 60/184\n",
      "(192202, 5)\n",
      "Processing Participant 2533 61/184\n",
      "No Fitbit Data for 2533\n",
      "Processing Participant 2540 62/184\n",
      "No Fitbit Data for 2540\n",
      "Processing Participant 2541 63/184\n",
      "No Fitbit Data for 2541\n",
      "Processing Participant 2542 64/184\n",
      "No Fitbit Data for 2542\n",
      "Processing Participant 2543 65/184\n",
      "No Fitbit Data for 2543\n",
      "Processing Participant 2544 66/184\n",
      "No Fitbit Data for 2544\n",
      "Processing Participant 2545 67/184\n",
      "No Fitbit Data for 2545\n",
      "Processing Participant 2546 68/184\n",
      "No Fitbit Data for 2546\n",
      "Processing Participant 2557 69/184\n",
      "No Fitbit Data for 2557\n",
      "Processing Participant 2558 70/184\n",
      "No Fitbit Data for 2558\n",
      "Processing Participant 2559 71/184\n",
      "No Fitbit Data for 2559\n",
      "Processing Participant 2560 72/184\n",
      "No Fitbit Data for 2560\n",
      "Processing Participant 2566 73/184\n",
      "No Fitbit Data for 2566\n",
      "Processing Participant 2576 74/184\n",
      "No Fitbit Data for 2576\n",
      "Processing Participant 2584 75/184\n",
      "No Fitbit Data for 2584\n",
      "Processing Participant 2588 76/184\n",
      "No Fitbit Data for 2588\n",
      "Processing Participant 2589 77/184\n",
      "No Fitbit Data for 2589\n",
      "Processing Participant 2596 78/184\n",
      "(194689, 5)\n",
      "Processing Participant 2601 79/184\n",
      "No Fitbit Data for 2601\n",
      "Processing Participant 2604 80/184\n",
      "No Fitbit Data for 2604\n",
      "Processing Participant 2605 81/184\n",
      "No Fitbit Data for 2605\n",
      "Processing Participant 2608 82/184\n",
      "No Fitbit Data for 2608\n",
      "Processing Participant 2611 83/184\n",
      "No Fitbit Data for 2611\n",
      "Processing Participant 2612 84/184\n",
      "No Fitbit Data for 2612\n",
      "Processing Participant 2613 85/184\n",
      "No Fitbit Data for 2613\n",
      "Processing Participant 2628 86/184\n",
      "No Fitbit Data for 2628\n",
      "Processing Participant 2629 87/184\n",
      "No Fitbit Data for 2629\n",
      "Processing Participant 2630 88/184\n",
      "No Fitbit Data for 2630\n",
      "Processing Participant 2631 89/184\n",
      "No Fitbit Data for 2631\n",
      "Processing Participant 2635 90/184\n",
      "(211574, 5)\n",
      "Processing Participant 2637 91/184\n",
      "(188922, 5)\n",
      "Processing Participant 2639 92/184\n",
      "No Fitbit Data for 2639\n",
      "Processing Participant 2640 93/184\n",
      "No Fitbit Data for 2640\n",
      "Processing Participant 2641 94/184\n",
      "No Fitbit Data for 2641\n",
      "Processing Participant 2642 95/184\n",
      "No Fitbit Data for 2642\n",
      "Processing Participant 2643 96/184\n",
      "No Fitbit Data for 2643\n",
      "Processing Participant 2644 97/184\n",
      "No Fitbit Data for 2644\n",
      "Processing Participant 2645 98/184\n",
      "No Fitbit Data for 2645\n",
      "Processing Participant 2646 99/184\n",
      "No Fitbit Data for 2646\n",
      "Processing Participant 2647 100/184\n",
      "No Fitbit Data for 2647\n",
      "Processing Participant 2648 101/184\n",
      "No Fitbit Data for 2648\n",
      "Processing Participant 2649 102/184\n",
      "No Fitbit Data for 2649\n",
      "Processing Participant 2650 103/184\n",
      "No Fitbit Data for 2650\n",
      "Processing Participant 2651 104/184\n",
      "No Fitbit Data for 2651\n",
      "Processing Participant 2653 105/184\n",
      "(32813, 5)\n",
      "Processing Participant 2657 106/184\n",
      "(200428, 5)\n",
      "Processing Participant 2661 107/184\n",
      "(171874, 5)\n",
      "Processing Participant 2662 108/184\n",
      "(226501, 5)\n",
      "Processing Participant 2663 109/184\n",
      "(116757, 5)\n",
      "Processing Participant 2664 110/184\n",
      "(182388, 5)\n",
      "Processing Participant 2665 111/184\n",
      "(184137, 5)\n",
      "Processing Participant 2666 112/184\n",
      "(190903, 5)\n",
      "Processing Participant 2667 113/184\n",
      "(186408, 5)\n",
      "Processing Participant 2668 114/184\n",
      "(210898, 5)\n",
      "Processing Participant 2669 115/184\n",
      "(210474, 5)\n",
      "Processing Participant 2670 116/184\n",
      "(193311, 5)\n",
      "Processing Participant 2671 117/184\n",
      "(199101, 5)\n",
      "Processing Participant 2672 118/184\n",
      "(230212, 5)\n",
      "Processing Participant 2673 119/184\n",
      "(210716, 5)\n",
      "Processing Participant 2674 120/184\n",
      "(212085, 5)\n",
      "Processing Participant 2675 121/184\n",
      "(153168, 5)\n",
      "Processing Participant 2676 122/184\n",
      "(180942, 5)\n",
      "Processing Participant 2679 123/184\n",
      "No Fitbit Data for 2679\n",
      "Processing Participant 2680 124/184\n",
      "(186925, 5)\n",
      "Processing Participant 2681 125/184\n",
      "(173724, 5)\n",
      "Processing Participant 2683 126/184\n",
      "(186670, 5)\n",
      "Processing Participant 2684 127/184\n",
      "No Fitbit Data for 2684\n",
      "Processing Participant 2685 128/184\n",
      "(205868, 5)\n",
      "Processing Participant 2686 129/184\n",
      "(238089, 5)\n",
      "Processing Participant 2687 130/184\n",
      "(251986, 5)\n",
      "Processing Participant 2688 131/184\n",
      "(193191, 5)\n",
      "Processing Participant 2689 132/184\n",
      "(194557, 5)\n",
      "Processing Participant 2690 133/184\n",
      "(199035, 5)\n",
      "Processing Participant 2691 134/184\n",
      "(228587, 5)\n",
      "Processing Participant 2692 135/184\n",
      "No Fitbit Data for 2692\n",
      "Processing Participant 2706 136/184\n",
      "(189704, 5)\n",
      "Processing Participant 2709 137/184\n",
      "(185614, 5)\n",
      "Processing Participant 2710 138/184\n",
      "No Fitbit Data for 2710\n",
      "Processing Participant 2711 139/184\n",
      "(133054, 5)\n",
      "Processing Participant 2712 140/184\n",
      "(239204, 5)\n",
      "Processing Participant 2753 141/184\n",
      "(189223, 5)\n",
      "Processing Participant 2774 142/184\n",
      "No Fitbit Data for 2774\n",
      "Processing Participant 2775 143/184\n",
      "(192544, 5)\n",
      "Processing Participant 2776 144/184\n",
      "No Fitbit Data for 2776\n",
      "Processing Participant 2778 145/184\n",
      "(184696, 5)\n",
      "Processing Participant 2779 146/184\n",
      "No Fitbit Data for 2779\n",
      "Processing Participant 2780 147/184\n",
      "(207818, 5)\n",
      "Processing Participant 2781 148/184\n",
      "(156754, 5)\n",
      "Processing Participant 2782 149/184\n",
      "(196071, 5)\n"
     ]
    },
    {
     "name": "stdout",
     "output_type": "stream",
     "text": [
      "Processing Participant 2783 150/184\n",
      "No Fitbit Data for 2783\n",
      "Processing Participant 2788 151/184\n",
      "(181182, 5)\n",
      "Processing Participant 2789 152/184\n",
      "(182604, 5)\n",
      "Processing Participant 2790 153/184\n",
      "(196297, 5)\n",
      "Processing Participant 2792 154/184\n",
      "(183863, 5)\n",
      "Processing Participant 2793 155/184\n",
      "(183055, 5)\n",
      "Processing Participant 2794 156/184\n",
      "(176323, 5)\n",
      "Processing Participant 2795 157/184\n",
      "(223540, 5)\n",
      "Processing Participant 2796 158/184\n",
      "No Fitbit Data for 2796\n",
      "Processing Participant 2797 159/184\n",
      "(209604, 5)\n",
      "Processing Participant 2798 160/184\n",
      "(203859, 5)\n",
      "Processing Participant 2801 161/184\n",
      "(191415, 5)\n",
      "Processing Participant 2812 162/184\n",
      "(204360, 5)\n",
      "Processing Participant 2813 163/184\n",
      "(204194, 5)\n",
      "Processing Participant 2814 164/184\n",
      "(186944, 5)\n",
      "Processing Participant 2815 165/184\n",
      "(188222, 5)\n",
      "Processing Participant 2816 166/184\n",
      "(208606, 5)\n",
      "Processing Participant 2817 167/184\n",
      "(186585, 5)\n",
      "Processing Participant 2818 168/184\n",
      "(209776, 5)\n",
      "Processing Participant 2819 169/184\n",
      "No Fitbit Data for 2819\n",
      "Processing Participant 2820 170/184\n",
      "(204785, 5)\n",
      "Processing Participant 2821 171/184\n",
      "(205995, 5)\n",
      "Processing Participant 2822 172/184\n",
      "(236671, 5)\n",
      "Processing Participant 2823 173/184\n",
      "(236108, 5)\n",
      "Processing Participant 2824 174/184\n",
      "(234087, 5)\n",
      "Processing Participant 2987 175/184\n",
      "(190361, 5)\n",
      "Processing Participant 2988 176/184\n",
      "(182005, 5)\n",
      "Processing Participant 2989 177/184\n",
      "(176666, 5)\n",
      "Processing Participant 2990 178/184\n",
      "(198020, 5)\n",
      "Processing Participant 2991 179/184\n",
      "(197716, 5)\n",
      "Processing Participant 2993 180/184\n",
      "(165508, 5)\n",
      "Processing Participant 2995 181/184\n",
      "(203280, 5)\n",
      "Processing Participant 2999 182/184\n",
      "(170754, 5)\n",
      "Processing Participant 3057 183/184\n",
      "No Fitbit Data for 3057\n",
      "Processing Participant 3058 184/184\n",
      "(203009, 5)\n"
     ]
    }
   ],
   "source": [
    "pa_dir = \"V:/ACOI/R01 - W4K/3_PA protocol/1_Participants/\"\n",
    "out_dir = \"C:/Users/ntindall/Wearables/Physical Activity/Rahul_Accelerometer_Metrics/Fitbit_Metrics/Accel_Metrics/\"\n",
    "\n",
    "participant_paths = glob(pa_dir + \"[0-9][0-9][0-9][0-9]/*aligned.csv\")\n",
    "total_participant = len(participant_paths)\n",
    "curr_participant = 1\n",
    "\n",
    "for participant in participant_paths:\n",
    "    participant_id = participant[len(pa_dir):len(pa_dir)+4]\n",
    "    print(f\"Processing Participant {participant_id} {curr_participant}/{total_participant}\")\n",
    "    # Read in data\n",
    "    fitbit_accel, start = read_fitbit(participant)\n",
    "    if fitbit_accel is not None:\n",
    "        # Define output path for metrics\n",
    "        out_path = out_dir + participant_id + \"_accel_metrics.csv\"\n",
    "        # Calculate Metrics and write to file\n",
    "        print(fitbit_accel.shape)\n",
    "        accel_metrics(fitbit_accel, start, out_path)\n",
    "\n",
    "    else:\n",
    "        print(f\"No Fitbit Data for {participant_id}\")\n",
    "    \n",
    "    curr_participant += 1"
   ]
  }
 ],
 "metadata": {
  "kernelspec": {
   "display_name": "Python 3 (ipykernel)",
   "language": "python",
   "name": "python3"
  },
  "language_info": {
   "codemirror_mode": {
    "name": "ipython",
    "version": 3
   },
   "file_extension": ".py",
   "mimetype": "text/x-python",
   "name": "python",
   "nbconvert_exporter": "python",
   "pygments_lexer": "ipython3",
   "version": "3.9.7"
  }
 },
 "nbformat": 4,
 "nbformat_minor": 5
}
